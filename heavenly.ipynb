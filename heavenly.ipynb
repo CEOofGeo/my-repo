{
 "cells": [
  {
   "cell_type": "code",
   "execution_count": 1,
   "metadata": {},
   "outputs": [],
   "source": [
    "# Heavenly Chocolates Website Transactions"
   ]
  },
  {
   "cell_type": "code",
   "execution_count": 1,
   "metadata": {},
   "outputs": [],
   "source": [
    "import pandas as pd\n",
    "import matplotlib.pyplot as plt"
   ]
  },
  {
   "cell_type": "code",
   "execution_count": 8,
   "metadata": {},
   "outputs": [],
   "source": [
    "# read data file\n",
    "df = pd.read_excel('C:\\\\Chocolates_data.xlsx')"
   ]
  },
  {
   "cell_type": "code",
   "execution_count": 9,
   "metadata": {},
   "outputs": [
    {
     "data": {
      "text/html": [
       "<div>\n",
       "<style scoped>\n",
       "    .dataframe tbody tr th:only-of-type {\n",
       "        vertical-align: middle;\n",
       "    }\n",
       "\n",
       "    .dataframe tbody tr th {\n",
       "        vertical-align: top;\n",
       "    }\n",
       "\n",
       "    .dataframe thead th {\n",
       "        text-align: right;\n",
       "    }\n",
       "</style>\n",
       "<table border=\"1\" class=\"dataframe\">\n",
       "  <thead>\n",
       "    <tr style=\"text-align: right;\">\n",
       "      <th></th>\n",
       "      <th>Customer</th>\n",
       "      <th>Day</th>\n",
       "      <th>Browser</th>\n",
       "      <th>Time (min)</th>\n",
       "      <th>Pages Viewed</th>\n",
       "      <th>Amount Spent ($)</th>\n",
       "    </tr>\n",
       "  </thead>\n",
       "  <tbody>\n",
       "    <tr>\n",
       "      <th>0</th>\n",
       "      <td>1</td>\n",
       "      <td>Mon</td>\n",
       "      <td>Internet Explorer</td>\n",
       "      <td>12.0</td>\n",
       "      <td>4</td>\n",
       "      <td>54.52</td>\n",
       "    </tr>\n",
       "    <tr>\n",
       "      <th>1</th>\n",
       "      <td>2</td>\n",
       "      <td>Wed</td>\n",
       "      <td>Other</td>\n",
       "      <td>19.5</td>\n",
       "      <td>6</td>\n",
       "      <td>94.90</td>\n",
       "    </tr>\n",
       "    <tr>\n",
       "      <th>2</th>\n",
       "      <td>3</td>\n",
       "      <td>Mon</td>\n",
       "      <td>Internet Explorer</td>\n",
       "      <td>8.5</td>\n",
       "      <td>4</td>\n",
       "      <td>26.68</td>\n",
       "    </tr>\n",
       "    <tr>\n",
       "      <th>3</th>\n",
       "      <td>4</td>\n",
       "      <td>Tue</td>\n",
       "      <td>Firefox</td>\n",
       "      <td>11.4</td>\n",
       "      <td>2</td>\n",
       "      <td>44.73</td>\n",
       "    </tr>\n",
       "    <tr>\n",
       "      <th>4</th>\n",
       "      <td>5</td>\n",
       "      <td>Wed</td>\n",
       "      <td>Internet Explorer</td>\n",
       "      <td>11.3</td>\n",
       "      <td>4</td>\n",
       "      <td>66.27</td>\n",
       "    </tr>\n",
       "  </tbody>\n",
       "</table>\n",
       "</div>"
      ],
      "text/plain": [
       "   Customer  Day            Browser  Time (min)  Pages Viewed  \\\n",
       "0         1  Mon  Internet Explorer        12.0             4   \n",
       "1         2  Wed              Other        19.5             6   \n",
       "2         3  Mon  Internet Explorer         8.5             4   \n",
       "3         4  Tue            Firefox        11.4             2   \n",
       "4         5  Wed  Internet Explorer        11.3             4   \n",
       "\n",
       "   Amount Spent ($)  \n",
       "0             54.52  \n",
       "1             94.90  \n",
       "2             26.68  \n",
       "3             44.73  \n",
       "4             66.27  "
      ]
     },
     "execution_count": 9,
     "metadata": {},
     "output_type": "execute_result"
    }
   ],
   "source": [
    "# snapshot of data\n",
    "df.head(5)"
   ]
  },
  {
   "cell_type": "code",
   "execution_count": 5,
   "metadata": {},
   "outputs": [
    {
     "name": "stdout",
     "output_type": "stream",
     "text": [
      "<class 'pandas.core.frame.DataFrame'>\n",
      "RangeIndex: 50 entries, 0 to 49\n",
      "Data columns (total 6 columns):\n",
      " #   Column       Non-Null Count  Dtype  \n",
      "---  ------       --------------  -----  \n",
      " 0   Customer     50 non-null     int64  \n",
      " 1   Day          50 non-null     object \n",
      " 2   Browser      50 non-null     object \n",
      " 3   time_min     50 non-null     float64\n",
      " 4   PagesViewed  50 non-null     int64  \n",
      " 5   AmountSpent  50 non-null     float64\n",
      "dtypes: float64(2), int64(2), object(2)\n",
      "memory usage: 2.5+ KB\n"
     ]
    }
   ],
   "source": [
    "# data variables info\n",
    "df.info()"
   ]
  },
  {
   "cell_type": "code",
   "execution_count": 6,
   "metadata": {},
   "outputs": [],
   "source": [
    "# delete column 1\n",
    "df = df.drop('Customer', 1)"
   ]
  },
  {
   "cell_type": "code",
   "execution_count": 7,
   "metadata": {},
   "outputs": [
    {
     "data": {
      "text/html": [
       "<div>\n",
       "<style scoped>\n",
       "    .dataframe tbody tr th:only-of-type {\n",
       "        vertical-align: middle;\n",
       "    }\n",
       "\n",
       "    .dataframe tbody tr th {\n",
       "        vertical-align: top;\n",
       "    }\n",
       "\n",
       "    .dataframe thead th {\n",
       "        text-align: right;\n",
       "    }\n",
       "</style>\n",
       "<table border=\"1\" class=\"dataframe\">\n",
       "  <thead>\n",
       "    <tr style=\"text-align: right;\">\n",
       "      <th></th>\n",
       "      <th>time_min</th>\n",
       "      <th>PagesViewed</th>\n",
       "      <th>AmountSpent</th>\n",
       "    </tr>\n",
       "  </thead>\n",
       "  <tbody>\n",
       "    <tr>\n",
       "      <th>count</th>\n",
       "      <td>50.000000</td>\n",
       "      <td>50.000000</td>\n",
       "      <td>50.000000</td>\n",
       "    </tr>\n",
       "    <tr>\n",
       "      <th>mean</th>\n",
       "      <td>12.810000</td>\n",
       "      <td>4.820000</td>\n",
       "      <td>68.128200</td>\n",
       "    </tr>\n",
       "    <tr>\n",
       "      <th>std</th>\n",
       "      <td>6.063314</td>\n",
       "      <td>2.037305</td>\n",
       "      <td>32.343758</td>\n",
       "    </tr>\n",
       "    <tr>\n",
       "      <th>min</th>\n",
       "      <td>4.300000</td>\n",
       "      <td>2.000000</td>\n",
       "      <td>17.840000</td>\n",
       "    </tr>\n",
       "    <tr>\n",
       "      <th>25%</th>\n",
       "      <td>8.650000</td>\n",
       "      <td>3.250000</td>\n",
       "      <td>45.560000</td>\n",
       "    </tr>\n",
       "    <tr>\n",
       "      <th>50%</th>\n",
       "      <td>11.400000</td>\n",
       "      <td>4.500000</td>\n",
       "      <td>62.150000</td>\n",
       "    </tr>\n",
       "    <tr>\n",
       "      <th>75%</th>\n",
       "      <td>14.900000</td>\n",
       "      <td>6.000000</td>\n",
       "      <td>82.735000</td>\n",
       "    </tr>\n",
       "    <tr>\n",
       "      <th>max</th>\n",
       "      <td>32.900000</td>\n",
       "      <td>10.000000</td>\n",
       "      <td>158.510000</td>\n",
       "    </tr>\n",
       "  </tbody>\n",
       "</table>\n",
       "</div>"
      ],
      "text/plain": [
       "        time_min  PagesViewed  AmountSpent\n",
       "count  50.000000    50.000000    50.000000\n",
       "mean   12.810000     4.820000    68.128200\n",
       "std     6.063314     2.037305    32.343758\n",
       "min     4.300000     2.000000    17.840000\n",
       "25%     8.650000     3.250000    45.560000\n",
       "50%    11.400000     4.500000    62.150000\n",
       "75%    14.900000     6.000000    82.735000\n",
       "max    32.900000    10.000000   158.510000"
      ]
     },
     "execution_count": 7,
     "metadata": {},
     "output_type": "execute_result"
    }
   ],
   "source": [
    "# numeric data summary\n",
    "df.describe()"
   ]
  },
  {
   "cell_type": "code",
   "execution_count": 8,
   "metadata": {},
   "outputs": [
    {
     "data": {
      "image/png": "[encoded data removed]",
      "text/plain": [
       "<Figure size 1008x576 with 1 Axes>"
      ]
     },
     "metadata": {
      "needs_background": "light"
     },
     "output_type": "display_data"
    }
   ],
   "source": [
    "# frequency count by Day\n",
    "\n",
    "Day = [\"Mon\", \"Tue\", \"Wed\", \"Thu\", \"Fri\", \"Sat\", \"Sun\"]\n",
    "df['Day'] = pd.Categorical(df['Day'], categories=Day, ordered=True)\n",
    "\n",
    "fig, ax = plt.subplots()\n",
    "df.groupby(df[\"Day\"]).size().plot(kind='bar',figsize=(14,8),rot=0)\n",
    "plt.xlabel('Day of the Week')\n",
    "plt.ylabel('Count')\n",
    "plt.show()"
   ]
  },
  {
   "cell_type": "code",
   "execution_count": 9,
   "metadata": {},
   "outputs": [
    {
     "data": {
      "image/png": "[encoded data removed]",
      "text/plain": [
       "<Figure size 1008x576 with 1 Axes>"
      ]
     },
     "metadata": {
      "needs_background": "light"
     },
     "output_type": "display_data"
    }
   ],
   "source": [
    "# Frequency count by browser type\n",
    "\n",
    "df[\"Browser\"] = df[\"Browser\"].astype('category')\n",
    "fig, ax = plt.subplots()\n",
    "\n",
    "df.groupby(df[\"Browser\"]).size().plot(kind='bar',figsize=(14,8),rot=0)\n",
    "plt.xlabel('Browser')\n",
    "plt.ylabel('Count')\n",
    "plt.show()"
   ]
  },
  {
   "cell_type": "code",
   "execution_count": 10,
   "metadata": {},
   "outputs": [
    {
     "data": {
      "text/html": [
       "<div>\n",
       "<style scoped>\n",
       "    .dataframe tbody tr th:only-of-type {\n",
       "        vertical-align: middle;\n",
       "    }\n",
       "\n",
       "    .dataframe tbody tr th {\n",
       "        vertical-align: top;\n",
       "    }\n",
       "\n",
       "    .dataframe thead tr th {\n",
       "        text-align: left;\n",
       "    }\n",
       "\n",
       "    .dataframe thead tr:last-of-type th {\n",
       "        text-align: right;\n",
       "    }\n",
       "</style>\n",
       "<table border=\"1\" class=\"dataframe\">\n",
       "  <thead>\n",
       "    <tr>\n",
       "      <th></th>\n",
       "      <th colspan=\"3\" halign=\"left\">time_min</th>\n",
       "      <th colspan=\"3\" halign=\"left\">PagesViewed</th>\n",
       "      <th colspan=\"3\" halign=\"left\">AmountSpent</th>\n",
       "    </tr>\n",
       "    <tr>\n",
       "      <th></th>\n",
       "      <th>count</th>\n",
       "      <th>sum</th>\n",
       "      <th>mean</th>\n",
       "      <th>count</th>\n",
       "      <th>sum</th>\n",
       "      <th>mean</th>\n",
       "      <th>count</th>\n",
       "      <th>sum</th>\n",
       "      <th>mean</th>\n",
       "    </tr>\n",
       "    <tr>\n",
       "      <th>Day</th>\n",
       "      <th></th>\n",
       "      <th></th>\n",
       "      <th></th>\n",
       "      <th></th>\n",
       "      <th></th>\n",
       "      <th></th>\n",
       "      <th></th>\n",
       "      <th></th>\n",
       "      <th></th>\n",
       "    </tr>\n",
       "  </thead>\n",
       "  <tbody>\n",
       "    <tr>\n",
       "      <th>Mon</th>\n",
       "      <td>9</td>\n",
       "      <td>137.9</td>\n",
       "      <td>15.322222</td>\n",
       "      <td>9</td>\n",
       "      <td>58</td>\n",
       "      <td>6.444444</td>\n",
       "      <td>9</td>\n",
       "      <td>813.38</td>\n",
       "      <td>90.375556</td>\n",
       "    </tr>\n",
       "    <tr>\n",
       "      <th>Tue</th>\n",
       "      <td>7</td>\n",
       "      <td>88.6</td>\n",
       "      <td>12.657143</td>\n",
       "      <td>7</td>\n",
       "      <td>28</td>\n",
       "      <td>4.000000</td>\n",
       "      <td>7</td>\n",
       "      <td>414.86</td>\n",
       "      <td>59.265714</td>\n",
       "    </tr>\n",
       "    <tr>\n",
       "      <th>Wed</th>\n",
       "      <td>6</td>\n",
       "      <td>74.6</td>\n",
       "      <td>12.433333</td>\n",
       "      <td>6</td>\n",
       "      <td>25</td>\n",
       "      <td>4.166667</td>\n",
       "      <td>6</td>\n",
       "      <td>341.82</td>\n",
       "      <td>56.970000</td>\n",
       "    </tr>\n",
       "    <tr>\n",
       "      <th>Thu</th>\n",
       "      <td>5</td>\n",
       "      <td>54.3</td>\n",
       "      <td>10.860000</td>\n",
       "      <td>5</td>\n",
       "      <td>19</td>\n",
       "      <td>3.800000</td>\n",
       "      <td>5</td>\n",
       "      <td>294.03</td>\n",
       "      <td>58.806000</td>\n",
       "    </tr>\n",
       "    <tr>\n",
       "      <th>Fri</th>\n",
       "      <td>11</td>\n",
       "      <td>135.5</td>\n",
       "      <td>12.318182</td>\n",
       "      <td>11</td>\n",
       "      <td>53</td>\n",
       "      <td>4.818182</td>\n",
       "      <td>11</td>\n",
       "      <td>945.43</td>\n",
       "      <td>85.948182</td>\n",
       "    </tr>\n",
       "    <tr>\n",
       "      <th>Sat</th>\n",
       "      <td>7</td>\n",
       "      <td>92.4</td>\n",
       "      <td>13.200000</td>\n",
       "      <td>7</td>\n",
       "      <td>37</td>\n",
       "      <td>5.285714</td>\n",
       "      <td>7</td>\n",
       "      <td>378.74</td>\n",
       "      <td>54.105714</td>\n",
       "    </tr>\n",
       "    <tr>\n",
       "      <th>Sun</th>\n",
       "      <td>5</td>\n",
       "      <td>57.2</td>\n",
       "      <td>11.440000</td>\n",
       "      <td>5</td>\n",
       "      <td>21</td>\n",
       "      <td>4.200000</td>\n",
       "      <td>5</td>\n",
       "      <td>218.15</td>\n",
       "      <td>43.630000</td>\n",
       "    </tr>\n",
       "  </tbody>\n",
       "</table>\n",
       "</div>"
      ],
      "text/plain": [
       "    time_min                   PagesViewed               AmountSpent          \\\n",
       "       count    sum       mean       count sum      mean       count     sum   \n",
       "Day                                                                            \n",
       "Mon        9  137.9  15.322222           9  58  6.444444           9  813.38   \n",
       "Tue        7   88.6  12.657143           7  28  4.000000           7  414.86   \n",
       "Wed        6   74.6  12.433333           6  25  4.166667           6  341.82   \n",
       "Thu        5   54.3  10.860000           5  19  3.800000           5  294.03   \n",
       "Fri       11  135.5  12.318182          11  53  4.818182          11  945.43   \n",
       "Sat        7   92.4  13.200000           7  37  5.285714           7  378.74   \n",
       "Sun        5   57.2  11.440000           5  21  4.200000           5  218.15   \n",
       "\n",
       "                \n",
       "          mean  \n",
       "Day             \n",
       "Mon  90.375556  \n",
       "Tue  59.265714  \n",
       "Wed  56.970000  \n",
       "Thu  58.806000  \n",
       "Fri  85.948182  \n",
       "Sat  54.105714  \n",
       "Sun  43.630000  "
      ]
     },
     "execution_count": 10,
     "metadata": {},
     "output_type": "execute_result"
    }
   ],
   "source": [
    "# frequency, the total dollars spent, and the mean amount spent per transaction for day of the week\n",
    "\n",
    "df.groupby('Day').agg(['count', 'sum', 'mean'])"
   ]
  },
  {
   "cell_type": "code",
   "execution_count": 11,
   "metadata": {},
   "outputs": [
    {
     "data": {
      "text/html": [
       "<div>\n",
       "<style scoped>\n",
       "    .dataframe tbody tr th:only-of-type {\n",
       "        vertical-align: middle;\n",
       "    }\n",
       "\n",
       "    .dataframe tbody tr th {\n",
       "        vertical-align: top;\n",
       "    }\n",
       "\n",
       "    .dataframe thead tr th {\n",
       "        text-align: left;\n",
       "    }\n",
       "\n",
       "    .dataframe thead tr:last-of-type th {\n",
       "        text-align: right;\n",
       "    }\n",
       "</style>\n",
       "<table border=\"1\" class=\"dataframe\">\n",
       "  <thead>\n",
       "    <tr>\n",
       "      <th></th>\n",
       "      <th colspan=\"3\" halign=\"left\">time_min</th>\n",
       "      <th colspan=\"3\" halign=\"left\">PagesViewed</th>\n",
       "      <th colspan=\"3\" halign=\"left\">AmountSpent</th>\n",
       "    </tr>\n",
       "    <tr>\n",
       "      <th></th>\n",
       "      <th>count</th>\n",
       "      <th>sum</th>\n",
       "      <th>mean</th>\n",
       "      <th>count</th>\n",
       "      <th>sum</th>\n",
       "      <th>mean</th>\n",
       "      <th>count</th>\n",
       "      <th>sum</th>\n",
       "      <th>mean</th>\n",
       "    </tr>\n",
       "    <tr>\n",
       "      <th>Browser</th>\n",
       "      <th></th>\n",
       "      <th></th>\n",
       "      <th></th>\n",
       "      <th></th>\n",
       "      <th></th>\n",
       "      <th></th>\n",
       "      <th></th>\n",
       "      <th></th>\n",
       "      <th></th>\n",
       "    </tr>\n",
       "  </thead>\n",
       "  <tbody>\n",
       "    <tr>\n",
       "      <th>Firefox</th>\n",
       "      <td>16</td>\n",
       "      <td>215.6</td>\n",
       "      <td>13.475000</td>\n",
       "      <td>16</td>\n",
       "      <td>81</td>\n",
       "      <td>5.06250</td>\n",
       "      <td>16</td>\n",
       "      <td>1228.21</td>\n",
       "      <td>76.763125</td>\n",
       "    </tr>\n",
       "    <tr>\n",
       "      <th>InternetExplorer</th>\n",
       "      <td>27</td>\n",
       "      <td>339.8</td>\n",
       "      <td>12.585185</td>\n",
       "      <td>27</td>\n",
       "      <td>118</td>\n",
       "      <td>4.37037</td>\n",
       "      <td>27</td>\n",
       "      <td>1656.81</td>\n",
       "      <td>61.363333</td>\n",
       "    </tr>\n",
       "    <tr>\n",
       "      <th>Other</th>\n",
       "      <td>7</td>\n",
       "      <td>85.1</td>\n",
       "      <td>12.157143</td>\n",
       "      <td>7</td>\n",
       "      <td>42</td>\n",
       "      <td>6.00000</td>\n",
       "      <td>7</td>\n",
       "      <td>521.39</td>\n",
       "      <td>74.484286</td>\n",
       "    </tr>\n",
       "  </tbody>\n",
       "</table>\n",
       "</div>"
      ],
      "text/plain": [
       "                 time_min                   PagesViewed                \\\n",
       "                    count    sum       mean       count  sum     mean   \n",
       "Browser                                                                 \n",
       "Firefox                16  215.6  13.475000          16   81  5.06250   \n",
       "InternetExplorer       27  339.8  12.585185          27  118  4.37037   \n",
       "Other                   7   85.1  12.157143           7   42  6.00000   \n",
       "\n",
       "                 AmountSpent                      \n",
       "                       count      sum       mean  \n",
       "Browser                                           \n",
       "Firefox                   16  1228.21  76.763125  \n",
       "InternetExplorer          27  1656.81  61.363333  \n",
       "Other                      7   521.39  74.484286  "
      ]
     },
     "execution_count": 11,
     "metadata": {},
     "output_type": "execute_result"
    }
   ],
   "source": [
    "# frequency, the total dollars spent, and the mean amount spent per transaction for each type of browser\n",
    "\n",
    "df.groupby('Browser').agg(['count', 'sum', 'mean'])"
   ]
  },
  {
   "cell_type": "code",
   "execution_count": 12,
   "metadata": {},
   "outputs": [
    {
     "data": {
      "image/png": "[encoded data removed]",
      "text/plain": [
       "<Figure size 864x576 with 1 Axes>"
      ]
     },
     "metadata": {
      "needs_background": "light"
     },
     "output_type": "display_data"
    }
   ],
   "source": [
    "# Scatter plot between Time Spent in Minutes and Amount Spent (US$)\n",
    "\n",
    "plt.figure(figsize=(12,8))\n",
    "plt.scatter(x=df['time_min'], y=df[\"AmountSpent\"],color = \"red\")\n",
    "plt.title('Scatter plot')\n",
    "plt.xlabel('Time Spent in Minutes')\n",
    "plt.ylabel('Amount Spent (US$)')\n",
    "plt.show()"
   ]
  },
  {
   "cell_type": "code",
   "execution_count": 13,
   "metadata": {},
   "outputs": [
    {
     "name": "stdout",
     "output_type": "stream",
     "text": [
      "Pearson correlation coefficient between Time Spent in Minutes and Amount Spent (US$): \n",
      "0.580047615980413\n"
     ]
    }
   ],
   "source": [
    "# Pearson correlation coefficient between Time Spent in Minutes and Amount Spent (US$)\n",
    "\n",
    "print(\"Pearson correlation coefficient between Time Spent in Minutes and Amount Spent (US$): \")\n",
    "print(df['time_min'].corr(df[\"AmountSpent\"],method=\"pearson\"))"
   ]
  },
  {
   "cell_type": "code",
   "execution_count": 14,
   "metadata": {},
   "outputs": [
    {
     "data": {
      "image/png": "[encoded data removed]",
      "text/plain": [
       "<Figure size 864x576 with 1 Axes>"
      ]
     },
     "metadata": {
      "needs_background": "light"
     },
     "output_type": "display_data"
    }
   ],
   "source": [
    "# Scatter plot between Number of Pages Viewed and Amount Spent (US$)\n",
    "\n",
    "plt.figure(figsize=(12,8))\n",
    "plt.scatter(x=df['PagesViewed'], y=df[\"AmountSpent\"],color = \"green\")\n",
    "plt.title('Scatter plot')\n",
    "plt.xlabel('Number of Pages Viewed')\n",
    "plt.ylabel('Amount Spent (US$)')\n",
    "plt.show()"
   ]
  },
  {
   "cell_type": "code",
   "execution_count": 15,
   "metadata": {},
   "outputs": [
    {
     "name": "stdout",
     "output_type": "stream",
     "text": [
      "Pearson correlation coefficient between Number of Pages Viewed and Amount Spent (US$): \n",
      "0.723666923476961\n"
     ]
    }
   ],
   "source": [
    "print(\"Pearson correlation coefficient between Number of Pages Viewed and Amount Spent (US$): \")\n",
    "print(df['PagesViewed'].corr(df[\"AmountSpent\"], method = \"pearson\"))"
   ]
  },
  {
   "cell_type": "code",
   "execution_count": 16,
   "metadata": {
    "scrolled": true
   },
   "outputs": [
    {
     "data": {
      "image/png": "[encoded data removed]",
      "text/plain": [
       "<Figure size 864x576 with 1 Axes>"
      ]
     },
     "metadata": {
      "needs_background": "light"
     },
     "output_type": "display_data"
    }
   ],
   "source": [
    "# Scatter plot between Time Spent in Minutes and Number of Pages Viewed\n",
    "\n",
    "plt.figure(figsize=(12,8))\n",
    "plt.scatter(x = df['time_min'],y=df['PagesViewed'], color = \"blue\")\n",
    "plt.title('Scatter plot')\n",
    "plt.xlabel('Time Spent in Minutes')\n",
    "plt.ylabel('Number of Pages Viewed')\n",
    "\n",
    "plt.show()"
   ]
  },
  {
   "cell_type": "code",
   "execution_count": 17,
   "metadata": {},
   "outputs": [
    {
     "name": "stdout",
     "output_type": "stream",
     "text": [
      "Pearson correlation coefficient between Number of Pages Viewed and Time Spent in Minutes: \n",
      "0.5955675236548259\n"
     ]
    }
   ],
   "source": [
    "print(\"Pearson correlation coefficient between Number of Pages Viewed and Time Spent in Minutes: \")\n",
    "print(df['PagesViewed'].corr(df[\"time_min\"]))"
   ]
  },
  {
   "cell_type": "code",
   "execution_count": null,
   "metadata": {},
   "outputs": [],
   "source": [
    "import requests\n",
    "from bs4 import BeautifulSoup\n",
    "#Used headers/agent because the request was timed out and asking for an agent. \n",
    "#Using following code we can fake the agent.\n",
    "headers = {'User-Agent': 'Mozilla/5.0 (Macintosh; Intel Mac OS X 10_11_6) AppleWebKit/537.36 (KHTML, like Gecko) Chrome/61.0.3163.100 Safari/537.36'}\n",
    "response = requests.get(\"https://www.zomato.com/bangalore/top-restaurants\",headers=headers)\n",
    "content = response.content\n",
    "soup = BeautifulSoup(content,\"html.parser\")\n",
    "top_rest = soup.find_all(\"div\",attrs={\"class\": \"bb0 collections-grid col-l-16\"})\n",
    "list_tr = top_rest[0].find_all(\"div\",attrs={\"class\": \"col-s-8 col-l-1by3\"})\n",
    "list_rest =[]\n",
    "for tr in list_tr:\n",
    "    dataframe ={}\n",
    "    dataframe[\"rest_name\"] = (tr.find(\"div\",attrs={\"class\": \"res_title zblack bold nowrap\"})).text.replace('\\n', ' ')\n",
    "    dataframe[\"rest_address\"] = (tr.find(\"div\",attrs={\"class\": \"nowrap grey-text fontsize5 ttupper\"})).text.replace('\\n', ' ')\n",
    "    dataframe[\"cuisine_type\"] = (tr.find(\"div\",attrs={\"class\":\"nowrap grey-text\"})).text.replace('\\n', ' ')\n",
    "    list_rest.append(dataframe)\n",
    "list_rest"
   ]
  },
  {
   "cell_type": "code",
   "execution_count": null,
   "metadata": {},
   "outputs": [],
   "source": [
    "import math"
   ]
  },
  {
   "cell_type": "code",
   "execution_count": null,
   "metadata": {},
   "outputs": [],
   "source": []
  }
 ],
 "metadata": {
  "kernelspec": {
   "display_name": "Python 3 (ipykernel)",
   "language": "python",
   "name": "python3"
  },
  "language_info": {
   "codemirror_mode": {
    "name": "ipython",
    "version": 3
   },
   "file_extension": ".py",
   "mimetype": "text/x-python",
   "name": "python",
   "nbconvert_exporter": "python",
   "pygments_lexer": "ipython3",
   "version": "3.9.7"
  }
 },
 "nbformat": 4,
 "nbformat_minor": 2
}
