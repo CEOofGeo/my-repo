{
 "cells": [
  {
   "cell_type": "markdown",
   "metadata": {
    "id": "1oXiJuXGr0xB"
   },
   "source": [
    "Name : Soumya Raj Poddar\n",
    "Email : soumyarajpoddar@gmail.com"
   ]
  },
  {
   "cell_type": "markdown",
   "metadata": {
    "id": "1vanoFe_Gson"
   },
   "source": [
    "# **Part A. Statistical Inferencing Tasks**"
   ]
  },
  {
   "cell_type": "code",
   "execution_count": null,
   "metadata": {
    "colab": {
     "base_uri": "https://localhost:8080/",
     "height": 206
    },
    "id": "Ks9_zOgX2Wg2",
    "outputId": "14b82159-7a0e-43a9-fa23-77c9c306467f"
   },
   "outputs": [
    {
     "data": {
      "text/html": [
       "<div>\n",
       "<style scoped>\n",
       "    .dataframe tbody tr th:only-of-type {\n",
       "        vertical-align: middle;\n",
       "    }\n",
       "\n",
       "    .dataframe tbody tr th {\n",
       "        vertical-align: top;\n",
       "    }\n",
       "\n",
       "    .dataframe thead th {\n",
       "        text-align: right;\n",
       "    }\n",
       "</style>\n",
       "<table border=\"1\" class=\"dataframe\">\n",
       "  <thead>\n",
       "    <tr style=\"text-align: right;\">\n",
       "      <th></th>\n",
       "      <th>ad_id</th>\n",
       "      <th>xyz_campaign_id</th>\n",
       "      <th>fb_campaign_id</th>\n",
       "      <th>age</th>\n",
       "      <th>gender</th>\n",
       "      <th>interest</th>\n",
       "      <th>Impressions</th>\n",
       "      <th>Clicks</th>\n",
       "      <th>Spent</th>\n",
       "      <th>Total_Conversion</th>\n",
       "      <th>Approved_Conversion</th>\n",
       "    </tr>\n",
       "  </thead>\n",
       "  <tbody>\n",
       "    <tr>\n",
       "      <th>0</th>\n",
       "      <td>708746</td>\n",
       "      <td>916</td>\n",
       "      <td>103916</td>\n",
       "      <td>30-34</td>\n",
       "      <td>M</td>\n",
       "      <td>15</td>\n",
       "      <td>7350</td>\n",
       "      <td>1</td>\n",
       "      <td>1.43</td>\n",
       "      <td>2</td>\n",
       "      <td>1</td>\n",
       "    </tr>\n",
       "    <tr>\n",
       "      <th>1</th>\n",
       "      <td>708749</td>\n",
       "      <td>916</td>\n",
       "      <td>103917</td>\n",
       "      <td>30-34</td>\n",
       "      <td>M</td>\n",
       "      <td>16</td>\n",
       "      <td>17861</td>\n",
       "      <td>2</td>\n",
       "      <td>1.82</td>\n",
       "      <td>2</td>\n",
       "      <td>0</td>\n",
       "    </tr>\n",
       "    <tr>\n",
       "      <th>2</th>\n",
       "      <td>708771</td>\n",
       "      <td>916</td>\n",
       "      <td>103920</td>\n",
       "      <td>30-34</td>\n",
       "      <td>M</td>\n",
       "      <td>20</td>\n",
       "      <td>693</td>\n",
       "      <td>0</td>\n",
       "      <td>0.00</td>\n",
       "      <td>1</td>\n",
       "      <td>0</td>\n",
       "    </tr>\n",
       "    <tr>\n",
       "      <th>3</th>\n",
       "      <td>708815</td>\n",
       "      <td>916</td>\n",
       "      <td>103928</td>\n",
       "      <td>30-34</td>\n",
       "      <td>M</td>\n",
       "      <td>28</td>\n",
       "      <td>4259</td>\n",
       "      <td>1</td>\n",
       "      <td>1.25</td>\n",
       "      <td>1</td>\n",
       "      <td>0</td>\n",
       "    </tr>\n",
       "    <tr>\n",
       "      <th>4</th>\n",
       "      <td>708818</td>\n",
       "      <td>916</td>\n",
       "      <td>103928</td>\n",
       "      <td>30-34</td>\n",
       "      <td>M</td>\n",
       "      <td>28</td>\n",
       "      <td>4133</td>\n",
       "      <td>1</td>\n",
       "      <td>1.29</td>\n",
       "      <td>1</td>\n",
       "      <td>1</td>\n",
       "    </tr>\n",
       "  </tbody>\n",
       "</table>\n",
       "</div>"
      ],
      "text/plain": [
       "    ad_id  xyz_campaign_id  fb_campaign_id    age gender  interest  \\\n",
       "0  708746              916          103916  30-34      M        15   \n",
       "1  708749              916          103917  30-34      M        16   \n",
       "2  708771              916          103920  30-34      M        20   \n",
       "3  708815              916          103928  30-34      M        28   \n",
       "4  708818              916          103928  30-34      M        28   \n",
       "\n",
       "   Impressions  Clicks  Spent  Total_Conversion  Approved_Conversion  \n",
       "0         7350       1   1.43                 2                    1  \n",
       "1        17861       2   1.82                 2                    0  \n",
       "2          693       0   0.00                 1                    0  \n",
       "3         4259       1   1.25                 1                    0  \n",
       "4         4133       1   1.29                 1                    1  "
      ]
     },
     "execution_count": 1,
     "metadata": {},
     "output_type": "execute_result"
    }
   ],
   "source": [
    "import pandas as pd\n",
    "import numpy as np\n",
    "data = pd.read_csv(\"C:\\\\fb_ad_data.csv\")\n",
    "data.head()"
   ]
  },
  {
   "cell_type": "code",
   "execution_count": null,
   "metadata": {
    "colab": {
     "base_uri": "https://localhost:8080/",
     "height": 206
    },
    "id": "q84CPZbX2mtD",
    "outputId": "ef8e87b1-ecbf-4201-85e5-8dd6e48a7157"
   },
   "outputs": [
    {
     "data": {
      "text/html": [
       "<div>\n",
       "<style scoped>\n",
       "    .dataframe tbody tr th:only-of-type {\n",
       "        vertical-align: middle;\n",
       "    }\n",
       "\n",
       "    .dataframe tbody tr th {\n",
       "        vertical-align: top;\n",
       "    }\n",
       "\n",
       "    .dataframe thead th {\n",
       "        text-align: right;\n",
       "    }\n",
       "</style>\n",
       "<table border=\"1\" class=\"dataframe\">\n",
       "  <thead>\n",
       "    <tr style=\"text-align: right;\">\n",
       "      <th></th>\n",
       "      <th>ad_id</th>\n",
       "      <th>xyz_campaign_id</th>\n",
       "      <th>fb_campaign_id</th>\n",
       "      <th>age</th>\n",
       "      <th>gender</th>\n",
       "      <th>interest</th>\n",
       "      <th>Impressions</th>\n",
       "      <th>Clicks</th>\n",
       "      <th>Spent</th>\n",
       "      <th>Total_Conversion</th>\n",
       "      <th>Approved_Conversion</th>\n",
       "    </tr>\n",
       "  </thead>\n",
       "  <tbody>\n",
       "    <tr>\n",
       "      <th>447</th>\n",
       "      <td>950531</td>\n",
       "      <td>936</td>\n",
       "      <td>123515</td>\n",
       "      <td>45-49</td>\n",
       "      <td>M</td>\n",
       "      <td>22</td>\n",
       "      <td>572</td>\n",
       "      <td>0</td>\n",
       "      <td>0.0</td>\n",
       "      <td>1</td>\n",
       "      <td>0</td>\n",
       "    </tr>\n",
       "    <tr>\n",
       "      <th>135</th>\n",
       "      <td>738098</td>\n",
       "      <td>936</td>\n",
       "      <td>109738</td>\n",
       "      <td>30-34</td>\n",
       "      <td>F</td>\n",
       "      <td>64</td>\n",
       "      <td>1539</td>\n",
       "      <td>0</td>\n",
       "      <td>0.0</td>\n",
       "      <td>1</td>\n",
       "      <td>0</td>\n",
       "    </tr>\n",
       "    <tr>\n",
       "      <th>316</th>\n",
       "      <td>778590</td>\n",
       "      <td>936</td>\n",
       "      <td>115876</td>\n",
       "      <td>30-34</td>\n",
       "      <td>M</td>\n",
       "      <td>30</td>\n",
       "      <td>1371</td>\n",
       "      <td>0</td>\n",
       "      <td>0.0</td>\n",
       "      <td>1</td>\n",
       "      <td>1</td>\n",
       "    </tr>\n",
       "    <tr>\n",
       "      <th>274</th>\n",
       "      <td>777201</td>\n",
       "      <td>936</td>\n",
       "      <td>115631</td>\n",
       "      <td>30-34</td>\n",
       "      <td>M</td>\n",
       "      <td>64</td>\n",
       "      <td>1882</td>\n",
       "      <td>0</td>\n",
       "      <td>0.0</td>\n",
       "      <td>1</td>\n",
       "      <td>1</td>\n",
       "    </tr>\n",
       "    <tr>\n",
       "      <th>446</th>\n",
       "      <td>950521</td>\n",
       "      <td>936</td>\n",
       "      <td>123514</td>\n",
       "      <td>30-34</td>\n",
       "      <td>M</td>\n",
       "      <td>21</td>\n",
       "      <td>351</td>\n",
       "      <td>0</td>\n",
       "      <td>0.0</td>\n",
       "      <td>1</td>\n",
       "      <td>0</td>\n",
       "    </tr>\n",
       "  </tbody>\n",
       "</table>\n",
       "</div>"
      ],
      "text/plain": [
       "      ad_id  xyz_campaign_id  fb_campaign_id    age gender  interest  \\\n",
       "447  950531              936          123515  45-49      M        22   \n",
       "135  738098              936          109738  30-34      F        64   \n",
       "316  778590              936          115876  30-34      M        30   \n",
       "274  777201              936          115631  30-34      M        64   \n",
       "446  950521              936          123514  30-34      M        21   \n",
       "\n",
       "     Impressions  Clicks  Spent  Total_Conversion  Approved_Conversion  \n",
       "447          572       0    0.0                 1                    0  \n",
       "135         1539       0    0.0                 1                    0  \n",
       "316         1371       0    0.0                 1                    1  \n",
       "274         1882       0    0.0                 1                    1  \n",
       "446          351       0    0.0                 1                    0  "
      ]
     },
     "execution_count": 2,
     "metadata": {},
     "output_type": "execute_result"
    }
   ],
   "source": [
    "data = data.sort_values(\"Clicks\",ascending=True)\n",
    "data.head()"
   ]
  },
  {
   "cell_type": "code",
   "execution_count": null,
   "metadata": {
    "colab": {
     "base_uri": "https://localhost:8080/"
    },
    "id": "Gv78iwgS3coc",
    "outputId": "7803213d-0d6d-4373-ca95-c9095790800d"
   },
   "outputs": [
    {
     "data": {
      "text/plain": [
       "(119, 11)"
      ]
     },
     "execution_count": 3,
     "metadata": {},
     "output_type": "execute_result"
    }
   ],
   "source": [
    "data[data[\"Clicks\"] == 1].shape"
   ]
  },
  {
   "cell_type": "markdown",
   "metadata": {
    "id": "qf3SiboB6YTw"
   },
   "source": [
    "Probability of an ad having one click"
   ]
  },
  {
   "cell_type": "code",
   "execution_count": null,
   "metadata": {
    "colab": {
     "base_uri": "https://localhost:8080/"
    },
    "id": "bRqvpGSY5T2d",
    "outputId": "e479f768-a258-4b3a-832b-78dde4734611"
   },
   "outputs": [
    {
     "data": {
      "text/plain": [
       "0.10411198600174978"
      ]
     },
     "execution_count": 4,
     "metadata": {},
     "output_type": "execute_result"
    }
   ],
   "source": [
    "prob_1click = data[data[\"Clicks\"] == 1].shape[0]/data.shape[0]\n",
    "prob_1click "
   ]
  },
  {
   "cell_type": "markdown",
   "metadata": {
    "id": "-ifJHMQY6p7k"
   },
   "source": [
    "Probability of an ad showed to Male"
   ]
  },
  {
   "cell_type": "code",
   "execution_count": null,
   "metadata": {
    "colab": {
     "base_uri": "https://localhost:8080/"
    },
    "id": "HR9jLwQh6Kk_",
    "outputId": "8d334839-aae6-4f3a-c22a-44cc25980c80"
   },
   "outputs": [
    {
     "data": {
      "text/plain": [
       "0.5179352580927384"
      ]
     },
     "execution_count": 5,
     "metadata": {},
     "output_type": "execute_result"
    }
   ],
   "source": [
    "prob_m = data[data[\"gender\"] == \"M\"].shape[0]/data.shape[0]\n",
    "prob_m"
   ]
  },
  {
   "cell_type": "markdown",
   "metadata": {
    "id": "jHXG-yqe61g8"
   },
   "source": [
    "Probability of an ad showed to Female"
   ]
  },
  {
   "cell_type": "code",
   "execution_count": null,
   "metadata": {
    "colab": {
     "base_uri": "https://localhost:8080/"
    },
    "id": "Vz84ZVCC6ngX",
    "outputId": "de9c91ad-4005-42cd-f37f-9812af53300a"
   },
   "outputs": [
    {
     "data": {
      "text/plain": [
       "0.4820647419072616"
      ]
     },
     "execution_count": 7,
     "metadata": {},
     "output_type": "execute_result"
    }
   ],
   "source": [
    "prob_f = data[data[\"gender\"] == \"F\"].shape[0]/data.shape[0]\n",
    "prob_f"
   ]
  },
  {
   "cell_type": "markdown",
   "metadata": {
    "id": "BJJEveU17hfe"
   },
   "source": [
    "Probability of an ad having one-click given that it is shown to Male"
   ]
  },
  {
   "cell_type": "code",
   "execution_count": null,
   "metadata": {
    "colab": {
     "base_uri": "https://localhost:8080/"
    },
    "id": "uJTpIOp26tvm",
    "outputId": "fb02c6b8-5f7f-46b7-a0a9-562a66dbba67"
   },
   "outputs": [
    {
     "data": {
      "text/plain": [
       "0.10304054054054054"
      ]
     },
     "execution_count": 8,
     "metadata": {},
     "output_type": "execute_result"
    }
   ],
   "source": [
    "prob_1click_m = data[(data[\"gender\"] == \"M\") & (data[\"Clicks\"] == 1)].shape[0]/data[data[\"gender\"] == \"M\"].shape[0]\n",
    "prob_1click_m"
   ]
  },
  {
   "cell_type": "markdown",
   "metadata": {
    "id": "1Dg4mHOf7bEk"
   },
   "source": [
    "Probability of an ad having one click given that it is shown to Female"
   ]
  },
  {
   "cell_type": "code",
   "execution_count": null,
   "metadata": {
    "colab": {
     "base_uri": "https://localhost:8080/"
    },
    "id": "ZYcY8nu_7PCc",
    "outputId": "a91987ba-57c5-4b51-c47e-49be4ea9b840"
   },
   "outputs": [
    {
     "data": {
      "text/plain": [
       "0.10526315789473684"
      ]
     },
     "execution_count": 23,
     "metadata": {},
     "output_type": "execute_result"
    }
   ],
   "source": [
    "prob_1click_f = data[(data[\"gender\"] == \"F\") & (data[\"Clicks\"] == 1)].shape[0]/data[data[\"gender\"] == \"F\"].shape[0]\n",
    "prob_1click_f"
   ]
  },
  {
   "cell_type": "markdown",
   "metadata": {
    "id": "ZIQUBnxv8P9S"
   },
   "source": [
    "Probability of an ad having one click and it is shown to Male"
   ]
  },
  {
   "cell_type": "code",
   "execution_count": null,
   "metadata": {
    "colab": {
     "base_uri": "https://localhost:8080/"
    },
    "id": "HpIDFuaN7d7c",
    "outputId": "dedd79d0-2e10-431a-a67e-da79c1b7d9b7"
   },
   "outputs": [
    {
     "data": {
      "text/plain": [
       "0.05336832895888014"
      ]
     },
     "execution_count": 22,
     "metadata": {},
     "output_type": "execute_result"
    }
   ],
   "source": [
    "prob_1click_f = data[(data[\"gender\"] == \"M\") & (data[\"Clicks\"] == 1)].shape[0]/data.shape[0]\n",
    "prob_1click_f "
   ]
  },
  {
   "cell_type": "markdown",
   "metadata": {
    "id": "yWAVZZR1WTDj"
   },
   "source": [
    "Based on the computation of the above-mentioned probabilities, draw inference regarding the independence of events, if any. In particular, do you think that the event of “an ad having one click” is independent of the events that “the ad is shown to Male” or “the ad is shown to Female” ?"
   ]
  },
  {
   "cell_type": "code",
   "execution_count": null,
   "metadata": {
    "colab": {
     "base_uri": "https://localhost:8080/"
    },
    "id": "tTJFnVy4WSdK",
    "outputId": "5357291b-6561-45a8-c38c-f2cfbe973540"
   },
   "outputs": [
    {
     "name": "stdout",
     "output_type": "stream",
     "text": [
      "0.053923268340363845 0.10304054054054054\n"
     ]
    }
   ],
   "source": [
    "print(prob_1click*prob_m, prob_1click_m)"
   ]
  },
  {
   "cell_type": "markdown",
   "metadata": {
    "id": "zN3T6JwSxyYA"
   },
   "source": [
    "Mean value of a click on an ad"
   ]
  },
  {
   "cell_type": "code",
   "execution_count": null,
   "metadata": {
    "colab": {
     "base_uri": "https://localhost:8080/"
    },
    "id": "HNZkx7Li8V3E",
    "outputId": "d90c5cf3-bd38-47f8-8664-115217e3810d"
   },
   "outputs": [
    {
     "name": "stdout",
     "output_type": "stream",
     "text": [
      "33.39020122484689 56.86754552691034\n"
     ]
    }
   ],
   "source": [
    "m_c = np.mean(data[\"Clicks\"])\n",
    "#m_c = np.mean(data[data[\"Clicks\"] > 100]['Clicks'])\n",
    "std_c = np.std(data[\"Clicks\"])\n",
    "#std_c = np.std(data[data[\"Clicks\"] > 100]['Clicks'])\n",
    "print(m_c,std_c)"
   ]
  },
  {
   "cell_type": "markdown",
   "metadata": {
    "id": "rTw18JyC0m3j"
   },
   "source": [
    " 95% confidence intervals for the true value of a mean click"
   ]
  },
  {
   "cell_type": "code",
   "execution_count": null,
   "metadata": {
    "colab": {
     "base_uri": "https://localhost:8080/"
    },
    "id": "7qm_7zLxw7PS",
    "outputId": "87ba0780-3b04-4186-b2d0-77245e786a79"
   },
   "outputs": [
    {
     "data": {
      "text/plain": [
       "(30.088482659050797, 36.691919790642984)"
      ]
     },
     "execution_count": 10,
     "metadata": {},
     "output_type": "execute_result"
    }
   ],
   "source": [
    "from scipy.stats import t\n",
    "c = data[\"Clicks\"]\n",
    "s_c = c.std()\n",
    "dof = len(c) - 1\n",
    "confidence = 0.95\n",
    "t_crit = np.abs(t.ppf((1-confidence)/2,dof))\n",
    "(m_c-s_c*t_crit/np.sqrt(len(c)), m_c+s_c*t_crit/np.sqrt(len(c)))"
   ]
  },
  {
   "cell_type": "markdown",
   "metadata": {
    "id": "4oHLqK4T0kMU"
   },
   "source": [
    " 99% confidence intervals for the true value of a mean click"
   ]
  },
  {
   "cell_type": "code",
   "execution_count": null,
   "metadata": {
    "colab": {
     "base_uri": "https://localhost:8080/"
    },
    "id": "tLdyAXLExkeB",
    "outputId": "83eec0b4-5936-4386-b9c5-a332880b29ac"
   },
   "outputs": [
    {
     "data": {
      "text/plain": [
       "(29.048350165819027, 37.73205228387475)"
      ]
     },
     "execution_count": 11,
     "metadata": {},
     "output_type": "execute_result"
    }
   ],
   "source": [
    "confidence1 = 0.99\n",
    "t_crit1 = np.abs(t.ppf((1-confidence1)/2,dof))\n",
    "(m_c-s_c*t_crit1/np.sqrt(len(c)), m_c+s_c*t_crit1/np.sqrt(len(c)))"
   ]
  },
  {
   "cell_type": "markdown",
   "metadata": {
    "id": "cXRGoBP62lUd"
   },
   "source": [
    "Based on past experience, data scientist believes that the mean number of clicks on an ad is 31. She wants to formally test this hypothesis based on the given advertising data. What should be the null and alternative hypotheses? What statistical conclusion can she draw?"
   ]
  },
  {
   "cell_type": "code",
   "execution_count": null,
   "metadata": {
    "id": "JbYKNyWB0hGd"
   },
   "outputs": [],
   "source": [
    "#H0 : Mean = 31\n",
    "#H1 : Mean != 31\n",
    "#Null hypothesis is correct as the proposed mean value falls within the range of acceptance."
   ]
  },
  {
   "cell_type": "markdown",
   "metadata": {
    "id": "MnBF3xVa4ucA"
   },
   "source": [
    "Fit an exponential pdf (Example wise - Main graph is plotted after a few cells)"
   ]
  },
  {
   "cell_type": "code",
   "execution_count": null,
   "metadata": {
    "colab": {
     "base_uri": "https://localhost:8080/",
     "height": 296
    },
    "id": "g7E9APrIKRcF",
    "outputId": "1984843a-0438-4cbb-cfc9-a423070a4406"
   },
   "outputs": [
    {
     "data": {
      "text/plain": [
       "<AxesSubplot:xlabel='Clicks', ylabel='Frequency'>"
      ]
     },
     "execution_count": 17,
     "metadata": {},
     "output_type": "execute_result"
    },
    {
     "data": {
      "image/png": "[encoded data removed]",
      "text/plain": [
       "<Figure size 432x288 with 1 Axes>"
      ]
     },
     "metadata": {
      "needs_background": "light"
     },
     "output_type": "display_data"
    }
   ],
   "source": [
    "import seaborn as sns\n",
    "sns.histplot(data=data, x=\"Clicks\",binwidth=10, stat='frequency')"
   ]
  },
  {
   "cell_type": "code",
   "execution_count": null,
   "metadata": {
    "colab": {
     "base_uri": "https://localhost:8080/",
     "height": 265
    },
    "id": "t9NjxVT32xna",
    "outputId": "441bcb34-b2c6-45d5-e108-22f2ffa5c3f5"
   },
   "outputs": [
    {
     "data": {
      "image/png": "[encoded data removed]",
      "text/plain": [
       "<Figure size 432x288 with 1 Axes>"
      ]
     },
     "metadata": {
      "needs_background": "light"
     },
     "output_type": "display_data"
    }
   ],
   "source": [
    "from scipy.stats import norm\n",
    "import matplotlib.pyplot as plt\n",
    "dist = norm(m_c,std_c)\n",
    "values = [value for value in range(0, 1200)]\n",
    "probabilities = [dist.pdf(value) for value in values]\n",
    "plt.hist(data['Clicks'], bins=3, density=True)\n",
    "plt.plot(values, probabilities)\n",
    "plt.show()"
   ]
  },
  {
   "cell_type": "markdown",
   "metadata": {
    "id": "jgBxZBo14yQ3"
   },
   "source": [
    "Compute the probability of a number of click exceeding 100 for an ad using clicks data"
   ]
  },
  {
   "cell_type": "code",
   "execution_count": null,
   "metadata": {
    "colab": {
     "base_uri": "https://localhost:8080/"
    },
    "id": "M8AOxsTD21tz",
    "outputId": "cf85f986-136f-41a4-cede-c825feeeddd6"
   },
   "outputs": [
    {
     "data": {
      "text/plain": [
       "0.10498687664041995"
      ]
     },
     "execution_count": 13,
     "metadata": {},
     "output_type": "execute_result"
    }
   ],
   "source": [
    "prob_c_greaterthan100 = data[data[\"Clicks\"] > 100].shape[0]/data.shape[0]\n",
    "prob_c_greaterthan100"
   ]
  },
  {
   "cell_type": "markdown",
   "metadata": {
    "id": "C9jokDhyK3LK"
   },
   "source": [
    "Compute the probability of a number of click exceeding 100 for an ad using pdf fitted above"
   ]
  },
  {
   "cell_type": "code",
   "execution_count": null,
   "metadata": {
    "colab": {
     "base_uri": "https://localhost:8080/"
    },
    "id": "Q7vTbJ_M8H1c",
    "outputId": "47fe34ad-8624-4a92-94db-45c2b6ed8aa4"
   },
   "outputs": [
    {
     "data": {
      "text/plain": [
       "0.04830099924173013"
      ]
     },
     "execution_count": 14,
     "metadata": {},
     "output_type": "execute_result"
    }
   ],
   "source": [
    "from scipy import stats\n",
    "pdf_c_greaterthan100 = stats.expon.sf(100, loc=0, scale =33)\n",
    "pdf_c_greaterthan100"
   ]
  },
  {
   "cell_type": "markdown",
   "metadata": {
    "id": "LeHgr2bnEz6W"
   },
   "source": [
    "Compute the probability of a number of click exceeding 400 for an ad using clicks data"
   ]
  },
  {
   "cell_type": "code",
   "execution_count": null,
   "metadata": {
    "colab": {
     "base_uri": "https://localhost:8080/"
    },
    "id": "f9NNoAK-K-9Z",
    "outputId": "08750fea-89b6-4d6a-c0e1-2dea40cc4a3e"
   },
   "outputs": [
    {
     "data": {
      "text/plain": [
       "0.0008748906386701663"
      ]
     },
     "execution_count": 15,
     "metadata": {},
     "output_type": "execute_result"
    }
   ],
   "source": [
    "prob_c_greaterthan400 = data[data[\"Clicks\"] > 400].shape[0]/data.shape[0]\n",
    "prob_c_greaterthan400"
   ]
  },
  {
   "cell_type": "markdown",
   "metadata": {
    "id": "3sNGj6BCFPHV"
   },
   "source": [
    "Compute the probability of a number of click exceeding 400 for an ad pdf fitted above"
   ]
  },
  {
   "cell_type": "code",
   "execution_count": null,
   "metadata": {
    "colab": {
     "base_uri": "https://localhost:8080/"
    },
    "id": "an_GHoFKFOtl",
    "outputId": "b6142c50-aab5-4541-bd9f-0ab2886c76a4"
   },
   "outputs": [
    {
     "data": {
      "text/plain": [
       "5.442826138661205e-06"
      ]
     },
     "execution_count": 21,
     "metadata": {},
     "output_type": "execute_result"
    }
   ],
   "source": [
    "pdf_c_greaterthan400 = stats.expon.sf(400, loc=0,scale=33)\n",
    "pdf_c_greaterthan400"
   ]
  },
  {
   "cell_type": "markdown",
   "metadata": {
    "id": "jvfCZvskFqbN"
   },
   "source": [
    "Difference between computed probabilities for clicks"
   ]
  },
  {
   "cell_type": "code",
   "execution_count": null,
   "metadata": {
    "colab": {
     "base_uri": "https://localhost:8080/"
    },
    "id": "Sl2mv52mFosj",
    "outputId": "07629cf8-9bc7-41af-ae18-31cec7cdfa14"
   },
   "outputs": [
    {
     "name": "stdout",
     "output_type": "stream",
     "text": [
      "Difference between probability for ad clicks greater than 100 is : 0.05668587739868981 \n",
      " Difference between probability for ad clicks greater than 400 is : 0.000869447812531505\n"
     ]
    }
   ],
   "source": [
    "print(\"Difference between probability for ad clicks greater than 100 is :\", prob_c_greaterthan100 - pdf_c_greaterthan100,'\\n','Difference between probability for ad clicks greater than 400 is :', prob_c_greaterthan400 - pdf_c_greaterthan400)"
   ]
  },
  {
   "cell_type": "markdown",
   "metadata": {
    "id": "YDKZLZIEylEE"
   },
   "source": [
    "Fit an exponential pdf"
   ]
  },
  {
   "cell_type": "code",
   "execution_count": null,
   "metadata": {
    "colab": {
     "base_uri": "https://localhost:8080/",
     "height": 330
    },
    "id": "mj-HjsTIP9rv",
    "outputId": "1daea3a2-f2a3-4763-d8e0-261fc9f80c72"
   },
   "outputs": [
    {
     "name": "stdout",
     "output_type": "stream",
     "text": [
      "Fit parameters = [0.0, 33.39020122484689]'\n"
     ]
    },
    {
     "data": {
      "text/plain": [
       "<matplotlib.legend.Legend at 0x251da2f2580>"
      ]
     },
     "execution_count": 20,
     "metadata": {},
     "output_type": "execute_result"
    },
    {
     "data": {
      "image/png": "[encoded data removed]",
      "text/plain": [
       "<Figure size 432x288 with 1 Axes>"
      ]
     },
     "metadata": {
      "needs_background": "light"
     },
     "output_type": "display_data"
    }
   ],
   "source": [
    "s,l = stats.expon.fit(data['Clicks'])\n",
    "print(\"Fit parameters = {}'\".format([s,l]))\n",
    "plt.figure(1)\n",
    "domain = np.linspace(0,400,2000)\n",
    "data['Clicks'].hist()\n",
    "plt.plot(domain,data['Clicks'].sum()*stats.expon.pdf(x=domain,loc=0,scale=33),label = \"Expon dist, \"+f' $\\lambda = {round(1/l,4)}$')\n",
    "plt.title(\"Exponential Fit\")\n",
    "plt.xlabel(\"No. of clicks per ad\")\n",
    "plt.ylabel(\"Frequency\")\n",
    "plt.legend()"
   ]
  },
  {
   "cell_type": "markdown",
   "metadata": {
    "id": "ZMXUFxlRGzWU"
   },
   "source": [
    "# **Part B: Exploratory Data Analysis**"
   ]
  },
  {
   "cell_type": "code",
   "execution_count": null,
   "metadata": {
    "colab": {
     "base_uri": "https://localhost:8080/",
     "height": 206
    },
    "id": "rELDeDE0nxC1",
    "outputId": "754b5da2-d21c-472e-a334-7ffbaf03cf82"
   },
   "outputs": [
    {
     "data": {
      "text/html": [
       "<div>\n",
       "<style scoped>\n",
       "    .dataframe tbody tr th:only-of-type {\n",
       "        vertical-align: middle;\n",
       "    }\n",
       "\n",
       "    .dataframe tbody tr th {\n",
       "        vertical-align: top;\n",
       "    }\n",
       "\n",
       "    .dataframe thead th {\n",
       "        text-align: right;\n",
       "    }\n",
       "</style>\n",
       "<table border=\"1\" class=\"dataframe\">\n",
       "  <thead>\n",
       "    <tr style=\"text-align: right;\">\n",
       "      <th></th>\n",
       "      <th>ad_id</th>\n",
       "      <th>xyz_campaign_id</th>\n",
       "      <th>fb_campaign_id</th>\n",
       "      <th>age</th>\n",
       "      <th>gender</th>\n",
       "      <th>interest</th>\n",
       "      <th>Impressions</th>\n",
       "      <th>Clicks</th>\n",
       "      <th>Spent</th>\n",
       "      <th>Total_Conversion</th>\n",
       "      <th>Approved_Conversion</th>\n",
       "    </tr>\n",
       "  </thead>\n",
       "  <tbody>\n",
       "    <tr>\n",
       "      <th>447</th>\n",
       "      <td>950531</td>\n",
       "      <td>936</td>\n",
       "      <td>123515</td>\n",
       "      <td>45-49</td>\n",
       "      <td>M</td>\n",
       "      <td>22</td>\n",
       "      <td>572</td>\n",
       "      <td>0</td>\n",
       "      <td>0.0</td>\n",
       "      <td>1</td>\n",
       "      <td>0</td>\n",
       "    </tr>\n",
       "    <tr>\n",
       "      <th>135</th>\n",
       "      <td>738098</td>\n",
       "      <td>936</td>\n",
       "      <td>109738</td>\n",
       "      <td>30-34</td>\n",
       "      <td>F</td>\n",
       "      <td>64</td>\n",
       "      <td>1539</td>\n",
       "      <td>0</td>\n",
       "      <td>0.0</td>\n",
       "      <td>1</td>\n",
       "      <td>0</td>\n",
       "    </tr>\n",
       "    <tr>\n",
       "      <th>316</th>\n",
       "      <td>778590</td>\n",
       "      <td>936</td>\n",
       "      <td>115876</td>\n",
       "      <td>30-34</td>\n",
       "      <td>M</td>\n",
       "      <td>30</td>\n",
       "      <td>1371</td>\n",
       "      <td>0</td>\n",
       "      <td>0.0</td>\n",
       "      <td>1</td>\n",
       "      <td>1</td>\n",
       "    </tr>\n",
       "    <tr>\n",
       "      <th>274</th>\n",
       "      <td>777201</td>\n",
       "      <td>936</td>\n",
       "      <td>115631</td>\n",
       "      <td>30-34</td>\n",
       "      <td>M</td>\n",
       "      <td>64</td>\n",
       "      <td>1882</td>\n",
       "      <td>0</td>\n",
       "      <td>0.0</td>\n",
       "      <td>1</td>\n",
       "      <td>1</td>\n",
       "    </tr>\n",
       "    <tr>\n",
       "      <th>446</th>\n",
       "      <td>950521</td>\n",
       "      <td>936</td>\n",
       "      <td>123514</td>\n",
       "      <td>30-34</td>\n",
       "      <td>M</td>\n",
       "      <td>21</td>\n",
       "      <td>351</td>\n",
       "      <td>0</td>\n",
       "      <td>0.0</td>\n",
       "      <td>1</td>\n",
       "      <td>0</td>\n",
       "    </tr>\n",
       "  </tbody>\n",
       "</table>\n",
       "</div>"
      ],
      "text/plain": [
       "      ad_id  xyz_campaign_id  fb_campaign_id    age gender  interest  \\\n",
       "447  950531              936          123515  45-49      M        22   \n",
       "135  738098              936          109738  30-34      F        64   \n",
       "316  778590              936          115876  30-34      M        30   \n",
       "274  777201              936          115631  30-34      M        64   \n",
       "446  950521              936          123514  30-34      M        21   \n",
       "\n",
       "     Impressions  Clicks  Spent  Total_Conversion  Approved_Conversion  \n",
       "447          572       0    0.0                 1                    0  \n",
       "135         1539       0    0.0                 1                    0  \n",
       "316         1371       0    0.0                 1                    1  \n",
       "274         1882       0    0.0                 1                    1  \n",
       "446          351       0    0.0                 1                    0  "
      ]
     },
     "execution_count": 6,
     "metadata": {},
     "output_type": "execute_result"
    }
   ],
   "source": [
    "data.head()"
   ]
  },
  {
   "cell_type": "code",
   "execution_count": null,
   "metadata": {
    "id": "pP78oYOvCeNn"
   },
   "outputs": [],
   "source": [
    "data['CPC'] = data['Spent']/(data['Total_Conversion']+data['Approved_Conversion'])\n",
    "#data[data['CPC']== float('inf')]['CPC'] = 0\n",
    "#data.describe()\n",
    "#data['CPC'].unique()"
   ]
  },
  {
   "cell_type": "code",
   "execution_count": null,
   "metadata": {
    "colab": {
     "base_uri": "https://localhost:8080/",
     "height": 300
    },
    "id": "VK5-D6fmClJW",
    "outputId": "f1832e55-8e1e-48a6-e71c-2a1e5a392c5e"
   },
   "outputs": [
    {
     "data": {
      "text/html": [
       "<div>\n",
       "<style scoped>\n",
       "    .dataframe tbody tr th:only-of-type {\n",
       "        vertical-align: middle;\n",
       "    }\n",
       "\n",
       "    .dataframe tbody tr th {\n",
       "        vertical-align: top;\n",
       "    }\n",
       "\n",
       "    .dataframe thead th {\n",
       "        text-align: right;\n",
       "    }\n",
       "</style>\n",
       "<table border=\"1\" class=\"dataframe\">\n",
       "  <thead>\n",
       "    <tr style=\"text-align: right;\">\n",
       "      <th></th>\n",
       "      <th>ad_id</th>\n",
       "      <th>xyz_campaign_id</th>\n",
       "      <th>fb_campaign_id</th>\n",
       "      <th>interest</th>\n",
       "      <th>Impressions</th>\n",
       "      <th>Clicks</th>\n",
       "      <th>Spent</th>\n",
       "      <th>Total_Conversion</th>\n",
       "      <th>Approved_Conversion</th>\n",
       "      <th>CPC</th>\n",
       "    </tr>\n",
       "  </thead>\n",
       "  <tbody>\n",
       "    <tr>\n",
       "      <th>count</th>\n",
       "      <td>1.143000e+03</td>\n",
       "      <td>1143.000000</td>\n",
       "      <td>1143.000000</td>\n",
       "      <td>1143.000000</td>\n",
       "      <td>1.143000e+03</td>\n",
       "      <td>1143.000000</td>\n",
       "      <td>1143.000000</td>\n",
       "      <td>1143.000000</td>\n",
       "      <td>1143.000000</td>\n",
       "      <td>1143.000000</td>\n",
       "    </tr>\n",
       "    <tr>\n",
       "      <th>mean</th>\n",
       "      <td>9.872611e+05</td>\n",
       "      <td>1067.382327</td>\n",
       "      <td>133783.989501</td>\n",
       "      <td>32.766404</td>\n",
       "      <td>1.867321e+05</td>\n",
       "      <td>33.390201</td>\n",
       "      <td>51.360656</td>\n",
       "      <td>2.855643</td>\n",
       "      <td>0.944007</td>\n",
       "      <td>13.209229</td>\n",
       "    </tr>\n",
       "    <tr>\n",
       "      <th>std</th>\n",
       "      <td>1.939928e+05</td>\n",
       "      <td>121.629393</td>\n",
       "      <td>20500.308622</td>\n",
       "      <td>26.952131</td>\n",
       "      <td>3.127622e+05</td>\n",
       "      <td>56.892438</td>\n",
       "      <td>86.908418</td>\n",
       "      <td>4.483593</td>\n",
       "      <td>1.737708</td>\n",
       "      <td>22.233119</td>\n",
       "    </tr>\n",
       "    <tr>\n",
       "      <th>min</th>\n",
       "      <td>7.087460e+05</td>\n",
       "      <td>916.000000</td>\n",
       "      <td>103916.000000</td>\n",
       "      <td>2.000000</td>\n",
       "      <td>8.700000e+01</td>\n",
       "      <td>0.000000</td>\n",
       "      <td>0.000000</td>\n",
       "      <td>0.000000</td>\n",
       "      <td>0.000000</td>\n",
       "      <td>0.000000</td>\n",
       "    </tr>\n",
       "    <tr>\n",
       "      <th>25%</th>\n",
       "      <td>7.776325e+05</td>\n",
       "      <td>936.000000</td>\n",
       "      <td>115716.000000</td>\n",
       "      <td>16.000000</td>\n",
       "      <td>6.503500e+03</td>\n",
       "      <td>1.000000</td>\n",
       "      <td>1.480000</td>\n",
       "      <td>1.000000</td>\n",
       "      <td>0.000000</td>\n",
       "      <td>0.945625</td>\n",
       "    </tr>\n",
       "    <tr>\n",
       "      <th>50%</th>\n",
       "      <td>1.121185e+06</td>\n",
       "      <td>1178.000000</td>\n",
       "      <td>144549.000000</td>\n",
       "      <td>25.000000</td>\n",
       "      <td>5.150900e+04</td>\n",
       "      <td>8.000000</td>\n",
       "      <td>12.370000</td>\n",
       "      <td>1.000000</td>\n",
       "      <td>1.000000</td>\n",
       "      <td>6.185000</td>\n",
       "    </tr>\n",
       "    <tr>\n",
       "      <th>75%</th>\n",
       "      <td>1.121804e+06</td>\n",
       "      <td>1178.000000</td>\n",
       "      <td>144657.500000</td>\n",
       "      <td>31.000000</td>\n",
       "      <td>2.217690e+05</td>\n",
       "      <td>37.500000</td>\n",
       "      <td>60.025000</td>\n",
       "      <td>3.000000</td>\n",
       "      <td>1.000000</td>\n",
       "      <td>16.919333</td>\n",
       "    </tr>\n",
       "    <tr>\n",
       "      <th>max</th>\n",
       "      <td>1.314415e+06</td>\n",
       "      <td>1178.000000</td>\n",
       "      <td>179982.000000</td>\n",
       "      <td>114.000000</td>\n",
       "      <td>3.052003e+06</td>\n",
       "      <td>421.000000</td>\n",
       "      <td>639.949998</td>\n",
       "      <td>60.000000</td>\n",
       "      <td>21.000000</td>\n",
       "      <td>332.989999</td>\n",
       "    </tr>\n",
       "  </tbody>\n",
       "</table>\n",
       "</div>"
      ],
      "text/plain": [
       "              ad_id  xyz_campaign_id  fb_campaign_id     interest  \\\n",
       "count  1.143000e+03      1143.000000     1143.000000  1143.000000   \n",
       "mean   9.872611e+05      1067.382327   133783.989501    32.766404   \n",
       "std    1.939928e+05       121.629393    20500.308622    26.952131   \n",
       "min    7.087460e+05       916.000000   103916.000000     2.000000   \n",
       "25%    7.776325e+05       936.000000   115716.000000    16.000000   \n",
       "50%    1.121185e+06      1178.000000   144549.000000    25.000000   \n",
       "75%    1.121804e+06      1178.000000   144657.500000    31.000000   \n",
       "max    1.314415e+06      1178.000000   179982.000000   114.000000   \n",
       "\n",
       "        Impressions       Clicks        Spent  Total_Conversion  \\\n",
       "count  1.143000e+03  1143.000000  1143.000000       1143.000000   \n",
       "mean   1.867321e+05    33.390201    51.360656          2.855643   \n",
       "std    3.127622e+05    56.892438    86.908418          4.483593   \n",
       "min    8.700000e+01     0.000000     0.000000          0.000000   \n",
       "25%    6.503500e+03     1.000000     1.480000          1.000000   \n",
       "50%    5.150900e+04     8.000000    12.370000          1.000000   \n",
       "75%    2.217690e+05    37.500000    60.025000          3.000000   \n",
       "max    3.052003e+06   421.000000   639.949998         60.000000   \n",
       "\n",
       "       Approved_Conversion          CPC  \n",
       "count          1143.000000  1143.000000  \n",
       "mean              0.944007    13.209229  \n",
       "std               1.737708    22.233119  \n",
       "min               0.000000     0.000000  \n",
       "25%               0.000000     0.945625  \n",
       "50%               1.000000     6.185000  \n",
       "75%               1.000000    16.919333  \n",
       "max              21.000000   332.989999  "
      ]
     },
     "execution_count": 8,
     "metadata": {},
     "output_type": "execute_result"
    }
   ],
   "source": [
    "#data.hist(figsize=(16, 20), bins=50, xlabelsize=8, ylabelsize=8)\n",
    "data.replace([np.inf, -np.inf], 0, inplace=True)\n",
    "data.replace([np.nan, -np.nan], 0, inplace=True)\n",
    "#data.replace(float('inf'), 0)\n",
    "data.describe()"
   ]
  },
  {
   "cell_type": "code",
   "execution_count": null,
   "metadata": {
    "colab": {
     "base_uri": "https://localhost:8080/",
     "height": 206
    },
    "id": "7jhzngjbLdXw",
    "outputId": "2697039e-b1b8-4c94-fe6c-983463be3e14"
   },
   "outputs": [
    {
     "data": {
      "text/html": [
       "<div>\n",
       "<style scoped>\n",
       "    .dataframe tbody tr th:only-of-type {\n",
       "        vertical-align: middle;\n",
       "    }\n",
       "\n",
       "    .dataframe tbody tr th {\n",
       "        vertical-align: top;\n",
       "    }\n",
       "\n",
       "    .dataframe thead th {\n",
       "        text-align: right;\n",
       "    }\n",
       "</style>\n",
       "<table border=\"1\" class=\"dataframe\">\n",
       "  <thead>\n",
       "    <tr style=\"text-align: right;\">\n",
       "      <th></th>\n",
       "      <th>ad_id</th>\n",
       "      <th>age</th>\n",
       "      <th>gender</th>\n",
       "      <th>interest</th>\n",
       "      <th>Impressions</th>\n",
       "      <th>Clicks</th>\n",
       "      <th>Spent</th>\n",
       "      <th>Approved_Conversion</th>\n",
       "      <th>CPC</th>\n",
       "    </tr>\n",
       "  </thead>\n",
       "  <tbody>\n",
       "    <tr>\n",
       "      <th>447</th>\n",
       "      <td>950531</td>\n",
       "      <td>45-49</td>\n",
       "      <td>M</td>\n",
       "      <td>22</td>\n",
       "      <td>572</td>\n",
       "      <td>0</td>\n",
       "      <td>0.0</td>\n",
       "      <td>0</td>\n",
       "      <td>0.0</td>\n",
       "    </tr>\n",
       "    <tr>\n",
       "      <th>135</th>\n",
       "      <td>738098</td>\n",
       "      <td>30-34</td>\n",
       "      <td>F</td>\n",
       "      <td>64</td>\n",
       "      <td>1539</td>\n",
       "      <td>0</td>\n",
       "      <td>0.0</td>\n",
       "      <td>0</td>\n",
       "      <td>0.0</td>\n",
       "    </tr>\n",
       "    <tr>\n",
       "      <th>316</th>\n",
       "      <td>778590</td>\n",
       "      <td>30-34</td>\n",
       "      <td>M</td>\n",
       "      <td>30</td>\n",
       "      <td>1371</td>\n",
       "      <td>0</td>\n",
       "      <td>0.0</td>\n",
       "      <td>1</td>\n",
       "      <td>0.0</td>\n",
       "    </tr>\n",
       "    <tr>\n",
       "      <th>274</th>\n",
       "      <td>777201</td>\n",
       "      <td>30-34</td>\n",
       "      <td>M</td>\n",
       "      <td>64</td>\n",
       "      <td>1882</td>\n",
       "      <td>0</td>\n",
       "      <td>0.0</td>\n",
       "      <td>1</td>\n",
       "      <td>0.0</td>\n",
       "    </tr>\n",
       "    <tr>\n",
       "      <th>446</th>\n",
       "      <td>950521</td>\n",
       "      <td>30-34</td>\n",
       "      <td>M</td>\n",
       "      <td>21</td>\n",
       "      <td>351</td>\n",
       "      <td>0</td>\n",
       "      <td>0.0</td>\n",
       "      <td>0</td>\n",
       "      <td>0.0</td>\n",
       "    </tr>\n",
       "  </tbody>\n",
       "</table>\n",
       "</div>"
      ],
      "text/plain": [
       "      ad_id    age gender  interest  Impressions  Clicks  Spent  \\\n",
       "447  950531  45-49      M        22          572       0    0.0   \n",
       "135  738098  30-34      F        64         1539       0    0.0   \n",
       "316  778590  30-34      M        30         1371       0    0.0   \n",
       "274  777201  30-34      M        64         1882       0    0.0   \n",
       "446  950521  30-34      M        21          351       0    0.0   \n",
       "\n",
       "     Approved_Conversion  CPC  \n",
       "447                    0  0.0  \n",
       "135                    0  0.0  \n",
       "316                    1  0.0  \n",
       "274                    1  0.0  \n",
       "446                    0  0.0  "
      ]
     },
     "execution_count": 56,
     "metadata": {},
     "output_type": "execute_result"
    }
   ],
   "source": [
    "df = data\n",
    "df = df.drop(['xyz_campaign_id','fb_campaign_id','Total_Conversion'], axis=1)\n",
    "df.head()"
   ]
  },
  {
   "cell_type": "code",
   "execution_count": null,
   "metadata": {
    "colab": {
     "base_uri": "https://localhost:8080/"
    },
    "id": "9u9iZykTI4HA",
    "outputId": "5a73409a-4429-465d-f584-7f2643090ba5"
   },
   "outputs": [
    {
     "name": "stdout",
     "output_type": "stream",
     "text": [
      "There is 9 strongly correlated values with CPC:\n",
      "Clicks                 0.477857\n",
      "Spent                  0.466117\n",
      "Impressions            0.383181\n",
      "xyz_campaign_id        0.373655\n",
      "ad_id                  0.316384\n",
      "fb_campaign_id         0.285713\n",
      "Total_Conversion       0.028808\n",
      "interest               0.021092\n",
      "Approved_Conversion   -0.049339\n",
      "Name: CPC, dtype: float64\n"
     ]
    }
   ],
   "source": [
    "data_corr = df.corr()['CPC'][:-1] # -1 because the latest row is CPC\n",
    "golden_features_list = data_corr[abs(data_corr) > 0].sort_values(ascending=False)\n",
    "print(\"There is {} strongly correlated values with CPC:\\n{}\".format(len(golden_features_list), golden_features_list))"
   ]
  },
  {
   "cell_type": "code",
   "execution_count": null,
   "metadata": {
    "colab": {
     "base_uri": "https://localhost:8080/",
     "height": 521
    },
    "id": "MaezFanzJ3PS",
    "outputId": "9c38462a-677f-471c-f3d8-d44464520e9c"
   },
   "outputs": [
    {
     "data": {
      "image/png": "[encoded data removed]",
      "text/plain": [
       "<Figure size 1800x180 with 10 Axes>"
      ]
     },
     "metadata": {
      "needs_background": "light"
     },
     "output_type": "display_data"
    },
    {
     "data": {
      "image/png": "[encoded data removed]",
      "text/plain": [
       "<Figure size 1260x180 with 8 Axes>"
      ]
     },
     "metadata": {
      "needs_background": "light"
     },
     "output_type": "display_data"
    },
    {
     "data": {
      "image/png": "[encoded data removed]",
      "text/plain": [
       "<Figure size 360x180 with 3 Axes>"
      ]
     },
     "metadata": {
      "needs_background": "light"
     },
     "output_type": "display_data"
    }
   ],
   "source": [
    "for i in range(0, len(df.columns), 5):\n",
    "    sns.pairplot(data=df,\n",
    "                x_vars=df.columns[i:i+10],\n",
    "                y_vars=['CPC'])"
   ]
  },
  {
   "cell_type": "code",
   "execution_count": null,
   "metadata": {
    "colab": {
     "base_uri": "https://localhost:8080/",
     "height": 212
    },
    "id": "3RegKv5Bu371",
    "outputId": "79df85b9-f1a8-4257-b459-04de1131f1d1"
   },
   "outputs": [
    {
     "data": {
      "text/plain": [
       "<seaborn.axisgrid.PairGrid at 0x25225cbac70>"
      ]
     },
     "execution_count": 60,
     "metadata": {},
     "output_type": "execute_result"
    },
    {
     "data": {
      "image/png": "[encoded data removed]",
      "text/plain": [
       "<Figure size 720x180 with 4 Axes>"
      ]
     },
     "metadata": {},
     "output_type": "display_data"
    }
   ],
   "source": [
    "import seaborn as sns\n",
    "sns.pairplot(data=df,x_vars=['Impressions','Clicks','Spent','Approved_Conversion'],y_vars=['CPC'])"
   ]
  },
  {
   "cell_type": "code",
   "execution_count": null,
   "metadata": {
    "colab": {
     "base_uri": "https://localhost:8080/",
     "height": 143
    },
    "id": "iasc5h_NKYbY",
    "outputId": "41a48fbd-a8d3-4800-ec98-3fe2220ab545"
   },
   "outputs": [
    {
     "data": {
      "text/html": [
       "<div>\n",
       "<style scoped>\n",
       "    .dataframe tbody tr th:only-of-type {\n",
       "        vertical-align: middle;\n",
       "    }\n",
       "\n",
       "    .dataframe tbody tr th {\n",
       "        vertical-align: top;\n",
       "    }\n",
       "\n",
       "    .dataframe thead th {\n",
       "        text-align: right;\n",
       "    }\n",
       "</style>\n",
       "<table border=\"1\" class=\"dataframe\">\n",
       "  <thead>\n",
       "    <tr style=\"text-align: right;\">\n",
       "      <th></th>\n",
       "      <th>Approved_Conversion</th>\n",
       "      <th>CPC</th>\n",
       "      <th>Clicks</th>\n",
       "      <th>Spent</th>\n",
       "    </tr>\n",
       "    <tr>\n",
       "      <th>gender</th>\n",
       "      <th></th>\n",
       "      <th></th>\n",
       "      <th></th>\n",
       "      <th></th>\n",
       "    </tr>\n",
       "  </thead>\n",
       "  <tbody>\n",
       "    <tr>\n",
       "      <th>F</th>\n",
       "      <td>495</td>\n",
       "      <td>16.415719</td>\n",
       "      <td>23878</td>\n",
       "      <td>34502.619963</td>\n",
       "    </tr>\n",
       "    <tr>\n",
       "      <th>M</th>\n",
       "      <td>584</td>\n",
       "      <td>10.224809</td>\n",
       "      <td>14287</td>\n",
       "      <td>24202.609995</td>\n",
       "    </tr>\n",
       "  </tbody>\n",
       "</table>\n",
       "</div>"
      ],
      "text/plain": [
       "        Approved_Conversion        CPC  Clicks         Spent\n",
       "gender                                                      \n",
       "F                       495  16.415719   23878  34502.619963\n",
       "M                       584  10.224809   14287  24202.609995"
      ]
     },
     "execution_count": 90,
     "metadata": {},
     "output_type": "execute_result"
    }
   ],
   "source": [
    "df_gender = pd.pivot_table(df, index = [\"gender\"], values = [\"Clicks\",\"Spent\",\"Approved_Conversion\", \"CPC\"],aggfunc = {\"Clicks\":np.sum,\"Spent\":np.sum,\"Approved_Conversion\":np.sum,\"CPC\":np.mean})\n",
    "df_gender"
   ]
  },
  {
   "cell_type": "code",
   "execution_count": null,
   "metadata": {
    "colab": {
     "base_uri": "https://localhost:8080/",
     "height": 206
    },
    "id": "cZDRuAGDPlcu",
    "outputId": "ba9648f4-8af3-4b82-f867-76abcfa5935e"
   },
   "outputs": [
    {
     "data": {
      "text/html": [
       "<div>\n",
       "<style scoped>\n",
       "    .dataframe tbody tr th:only-of-type {\n",
       "        vertical-align: middle;\n",
       "    }\n",
       "\n",
       "    .dataframe tbody tr th {\n",
       "        vertical-align: top;\n",
       "    }\n",
       "\n",
       "    .dataframe thead th {\n",
       "        text-align: right;\n",
       "    }\n",
       "</style>\n",
       "<table border=\"1\" class=\"dataframe\">\n",
       "  <thead>\n",
       "    <tr style=\"text-align: right;\">\n",
       "      <th></th>\n",
       "      <th>Approved_Conversion</th>\n",
       "      <th>CPC</th>\n",
       "      <th>Clicks</th>\n",
       "      <th>Spent</th>\n",
       "    </tr>\n",
       "    <tr>\n",
       "      <th>age</th>\n",
       "      <th></th>\n",
       "      <th></th>\n",
       "      <th></th>\n",
       "      <th></th>\n",
       "    </tr>\n",
       "  </thead>\n",
       "  <tbody>\n",
       "    <tr>\n",
       "      <th>30-34</th>\n",
       "      <td>494</td>\n",
       "      <td>6.136376</td>\n",
       "      <td>9483</td>\n",
       "      <td>15252.399986</td>\n",
       "    </tr>\n",
       "    <tr>\n",
       "      <th>35-39</th>\n",
       "      <td>207</td>\n",
       "      <td>11.002243</td>\n",
       "      <td>7094</td>\n",
       "      <td>11112.429994</td>\n",
       "    </tr>\n",
       "    <tr>\n",
       "      <th>40-44</th>\n",
       "      <td>170</td>\n",
       "      <td>16.453113</td>\n",
       "      <td>7736</td>\n",
       "      <td>11589.729981</td>\n",
       "    </tr>\n",
       "    <tr>\n",
       "      <th>45-49</th>\n",
       "      <td>208</td>\n",
       "      <td>24.325645</td>\n",
       "      <td>13852</td>\n",
       "      <td>20750.669997</td>\n",
       "    </tr>\n",
       "  </tbody>\n",
       "</table>\n",
       "</div>"
      ],
      "text/plain": [
       "       Approved_Conversion        CPC  Clicks         Spent\n",
       "age                                                        \n",
       "30-34                  494   6.136376    9483  15252.399986\n",
       "35-39                  207  11.002243    7094  11112.429994\n",
       "40-44                  170  16.453113    7736  11589.729981\n",
       "45-49                  208  24.325645   13852  20750.669997"
      ]
     },
     "execution_count": 38,
     "metadata": {},
     "output_type": "execute_result"
    }
   ],
   "source": [
    "df_age = pd.pivot_table(df, index = [\"age\"], values = [\"Clicks\",\"Spent\",\"Approved_Conversion\",\"CPC\"],aggfunc = {\"Clicks\":np.sum,\"Spent\":np.sum,\"Approved_Conversion\":np.sum,\"CPC\":np.mean})\n",
    "df_age"
   ]
  },
  {
   "cell_type": "code",
   "execution_count": null,
   "metadata": {
    "colab": {
     "base_uri": "https://localhost:8080/",
     "height": 331
    },
    "id": "mLflrqZzRNrT",
    "outputId": "12c5cfb0-f556-430e-c8a2-c39ea53f7d11"
   },
   "outputs": [
    {
     "data": {
      "text/html": [
       "<div>\n",
       "<style scoped>\n",
       "    .dataframe tbody tr th:only-of-type {\n",
       "        vertical-align: middle;\n",
       "    }\n",
       "\n",
       "    .dataframe tbody tr th {\n",
       "        vertical-align: top;\n",
       "    }\n",
       "\n",
       "    .dataframe thead th {\n",
       "        text-align: right;\n",
       "    }\n",
       "</style>\n",
       "<table border=\"1\" class=\"dataframe\">\n",
       "  <thead>\n",
       "    <tr style=\"text-align: right;\">\n",
       "      <th></th>\n",
       "      <th></th>\n",
       "      <th>Approved_Conversion</th>\n",
       "      <th>CPC</th>\n",
       "      <th>Clicks</th>\n",
       "      <th>Spent</th>\n",
       "    </tr>\n",
       "    <tr>\n",
       "      <th>age</th>\n",
       "      <th>gender</th>\n",
       "      <th></th>\n",
       "      <th></th>\n",
       "      <th></th>\n",
       "      <th></th>\n",
       "    </tr>\n",
       "  </thead>\n",
       "  <tbody>\n",
       "    <tr>\n",
       "      <th rowspan=\"2\" valign=\"top\">30-34</th>\n",
       "      <th>F</th>\n",
       "      <td>195</td>\n",
       "      <td>7.011501</td>\n",
       "      <td>5099</td>\n",
       "      <td>7611.479995</td>\n",
       "    </tr>\n",
       "    <tr>\n",
       "      <th>M</th>\n",
       "      <td>299</td>\n",
       "      <td>5.383540</td>\n",
       "      <td>4384</td>\n",
       "      <td>7640.919991</td>\n",
       "    </tr>\n",
       "    <tr>\n",
       "      <th rowspan=\"2\" valign=\"top\">35-39</th>\n",
       "      <th>F</th>\n",
       "      <td>95</td>\n",
       "      <td>13.014209</td>\n",
       "      <td>4161</td>\n",
       "      <td>6061.349992</td>\n",
       "    </tr>\n",
       "    <tr>\n",
       "      <th>M</th>\n",
       "      <td>112</td>\n",
       "      <td>9.424513</td>\n",
       "      <td>2933</td>\n",
       "      <td>5051.080003</td>\n",
       "    </tr>\n",
       "    <tr>\n",
       "      <th rowspan=\"2\" valign=\"top\">40-44</th>\n",
       "      <th>F</th>\n",
       "      <td>93</td>\n",
       "      <td>18.532462</td>\n",
       "      <td>5177</td>\n",
       "      <td>7396.579984</td>\n",
       "    </tr>\n",
       "    <tr>\n",
       "      <th>M</th>\n",
       "      <td>77</td>\n",
       "      <td>14.293013</td>\n",
       "      <td>2559</td>\n",
       "      <td>4193.149997</td>\n",
       "    </tr>\n",
       "    <tr>\n",
       "      <th rowspan=\"2\" valign=\"top\">45-49</th>\n",
       "      <th>F</th>\n",
       "      <td>112</td>\n",
       "      <td>30.886040</td>\n",
       "      <td>9441</td>\n",
       "      <td>13433.209993</td>\n",
       "    </tr>\n",
       "    <tr>\n",
       "      <th>M</th>\n",
       "      <td>96</td>\n",
       "      <td>16.843541</td>\n",
       "      <td>4411</td>\n",
       "      <td>7317.460004</td>\n",
       "    </tr>\n",
       "  </tbody>\n",
       "</table>\n",
       "</div>"
      ],
      "text/plain": [
       "              Approved_Conversion        CPC  Clicks         Spent\n",
       "age   gender                                                      \n",
       "30-34 F                       195   7.011501    5099   7611.479995\n",
       "      M                       299   5.383540    4384   7640.919991\n",
       "35-39 F                        95  13.014209    4161   6061.349992\n",
       "      M                       112   9.424513    2933   5051.080003\n",
       "40-44 F                        93  18.532462    5177   7396.579984\n",
       "      M                        77  14.293013    2559   4193.149997\n",
       "45-49 F                       112  30.886040    9441  13433.209993\n",
       "      M                        96  16.843541    4411   7317.460004"
      ]
     },
     "execution_count": 39,
     "metadata": {},
     "output_type": "execute_result"
    }
   ],
   "source": [
    "df_age_gender = pd.pivot_table(df, index = [\"age\",\"gender\"], values = [\"Clicks\",\"Spent\",\"Approved_Conversion\",\"CPC\"],aggfunc = {\"Clicks\":np.sum,\"Spent\":np.sum,\"Approved_Conversion\":np.sum,\"CPC\":np.mean})\n",
    "df_age_gender"
   ]
  },
  {
   "cell_type": "code",
   "execution_count": null,
   "metadata": {
    "colab": {
     "base_uri": "https://localhost:8080/",
     "height": 363
    },
    "id": "zV6C5xq_kUO8",
    "outputId": "357fe04b-0713-4a50-d671-05de83772c1b"
   },
   "outputs": [
    {
     "data": {
      "text/html": [
       "<div>\n",
       "<style scoped>\n",
       "    .dataframe tbody tr th:only-of-type {\n",
       "        vertical-align: middle;\n",
       "    }\n",
       "\n",
       "    .dataframe tbody tr th {\n",
       "        vertical-align: top;\n",
       "    }\n",
       "\n",
       "    .dataframe thead tr th {\n",
       "        text-align: left;\n",
       "    }\n",
       "\n",
       "    .dataframe thead tr:last-of-type th {\n",
       "        text-align: right;\n",
       "    }\n",
       "</style>\n",
       "<table border=\"1\" class=\"dataframe\">\n",
       "  <thead>\n",
       "    <tr>\n",
       "      <th></th>\n",
       "      <th></th>\n",
       "      <th>Approved_Conversion</th>\n",
       "      <th>Clicks</th>\n",
       "      <th>Spent</th>\n",
       "    </tr>\n",
       "    <tr>\n",
       "      <th></th>\n",
       "      <th></th>\n",
       "      <th>sum</th>\n",
       "      <th>sum</th>\n",
       "      <th>sum</th>\n",
       "    </tr>\n",
       "    <tr>\n",
       "      <th>age</th>\n",
       "      <th>gender</th>\n",
       "      <th></th>\n",
       "      <th></th>\n",
       "      <th></th>\n",
       "    </tr>\n",
       "  </thead>\n",
       "  <tbody>\n",
       "    <tr>\n",
       "      <th rowspan=\"2\" valign=\"top\">30-34</th>\n",
       "      <th>F</th>\n",
       "      <td>195</td>\n",
       "      <td>5099</td>\n",
       "      <td>7611.479995</td>\n",
       "    </tr>\n",
       "    <tr>\n",
       "      <th>M</th>\n",
       "      <td>299</td>\n",
       "      <td>4384</td>\n",
       "      <td>7640.919991</td>\n",
       "    </tr>\n",
       "    <tr>\n",
       "      <th rowspan=\"2\" valign=\"top\">35-39</th>\n",
       "      <th>F</th>\n",
       "      <td>95</td>\n",
       "      <td>4161</td>\n",
       "      <td>6061.349992</td>\n",
       "    </tr>\n",
       "    <tr>\n",
       "      <th>M</th>\n",
       "      <td>112</td>\n",
       "      <td>2933</td>\n",
       "      <td>5051.080003</td>\n",
       "    </tr>\n",
       "    <tr>\n",
       "      <th rowspan=\"2\" valign=\"top\">40-44</th>\n",
       "      <th>F</th>\n",
       "      <td>93</td>\n",
       "      <td>5177</td>\n",
       "      <td>7396.579984</td>\n",
       "    </tr>\n",
       "    <tr>\n",
       "      <th>M</th>\n",
       "      <td>77</td>\n",
       "      <td>2559</td>\n",
       "      <td>4193.149997</td>\n",
       "    </tr>\n",
       "    <tr>\n",
       "      <th rowspan=\"2\" valign=\"top\">45-49</th>\n",
       "      <th>F</th>\n",
       "      <td>112</td>\n",
       "      <td>9441</td>\n",
       "      <td>13433.209993</td>\n",
       "    </tr>\n",
       "    <tr>\n",
       "      <th>M</th>\n",
       "      <td>96</td>\n",
       "      <td>4411</td>\n",
       "      <td>7317.460004</td>\n",
       "    </tr>\n",
       "  </tbody>\n",
       "</table>\n",
       "</div>"
      ],
      "text/plain": [
       "             Approved_Conversion Clicks         Spent\n",
       "                             sum    sum           sum\n",
       "age   gender                                         \n",
       "30-34 F                      195   5099   7611.479995\n",
       "      M                      299   4384   7640.919991\n",
       "35-39 F                       95   4161   6061.349992\n",
       "      M                      112   2933   5051.080003\n",
       "40-44 F                       93   5177   7396.579984\n",
       "      M                       77   2559   4193.149997\n",
       "45-49 F                      112   9441  13433.209993\n",
       "      M                       96   4411   7317.460004"
      ]
     },
     "execution_count": 51,
     "metadata": {},
     "output_type": "execute_result"
    }
   ],
   "source": [
    "df_cpc = pd.pivot_table(df, index = [\"age\",\"gender\"], values = [\"Clicks\",\"Spent\",\"Approved_Conversion\"],aggfunc = {np.sum})\n",
    "df_cpc"
   ]
  },
  {
   "cell_type": "code",
   "execution_count": null,
   "metadata": {
    "colab": {
     "base_uri": "https://localhost:8080/",
     "height": 1000
    },
    "id": "smu36r3xzyzO",
    "outputId": "116c3d3e-3721-430a-e2eb-7aa34d921780"
   },
   "outputs": [
    {
     "data": {
      "image/png": "[encoded data removed]",
      "text/plain": [
       "<Figure size 1440x1440 with 16 Axes>"
      ]
     },
     "metadata": {},
     "output_type": "display_data"
    }
   ],
   "source": [
    "import matplotlib.pyplot as plt\n",
    "ax = df_cpc.unstack(level=0).plot(kind='bar', subplots=True, rot=0, figsize=(20, 20), layout=(4,4))\n",
    "plt.tight_layout()"
   ]
  },
  {
   "cell_type": "code",
   "execution_count": null,
   "metadata": {
    "colab": {
     "base_uri": "https://localhost:8080/",
     "height": 174
    },
    "id": "ZaoB_73Z3IxT",
    "outputId": "a0e12afd-cb4c-4fe0-cda7-3a715603ba0c"
   },
   "outputs": [
    {
     "data": {
      "text/html": [
       "<div>\n",
       "<style scoped>\n",
       "    .dataframe tbody tr th:only-of-type {\n",
       "        vertical-align: middle;\n",
       "    }\n",
       "\n",
       "    .dataframe tbody tr th {\n",
       "        vertical-align: top;\n",
       "    }\n",
       "\n",
       "    .dataframe thead th {\n",
       "        text-align: right;\n",
       "    }\n",
       "</style>\n",
       "<table border=\"1\" class=\"dataframe\">\n",
       "  <thead>\n",
       "    <tr style=\"text-align: right;\">\n",
       "      <th></th>\n",
       "      <th>Clicks</th>\n",
       "      <th>Impressions</th>\n",
       "      <th>Spent</th>\n",
       "      <th>Total_Conversion</th>\n",
       "    </tr>\n",
       "    <tr>\n",
       "      <th>xyz_campaign_id</th>\n",
       "      <th></th>\n",
       "      <th></th>\n",
       "      <th></th>\n",
       "      <th></th>\n",
       "    </tr>\n",
       "  </thead>\n",
       "  <tbody>\n",
       "    <tr>\n",
       "      <th>916</th>\n",
       "      <td>113</td>\n",
       "      <td>8943.055556</td>\n",
       "      <td>149.710001</td>\n",
       "      <td>58</td>\n",
       "    </tr>\n",
       "    <tr>\n",
       "      <th>936</th>\n",
       "      <td>1984</td>\n",
       "      <td>17517.644397</td>\n",
       "      <td>2893.369999</td>\n",
       "      <td>537</td>\n",
       "    </tr>\n",
       "    <tr>\n",
       "      <th>1178</th>\n",
       "      <td>36068</td>\n",
       "      <td>327717.945600</td>\n",
       "      <td>55662.149959</td>\n",
       "      <td>2669</td>\n",
       "    </tr>\n",
       "  </tbody>\n",
       "</table>\n",
       "</div>"
      ],
      "text/plain": [
       "                 Clicks    Impressions         Spent  Total_Conversion\n",
       "xyz_campaign_id                                                       \n",
       "916                 113    8943.055556    149.710001                58\n",
       "936                1984   17517.644397   2893.369999               537\n",
       "1178              36068  327717.945600  55662.149959              2669"
      ]
     },
     "execution_count": 36,
     "metadata": {},
     "output_type": "execute_result"
    }
   ],
   "source": [
    "data_ctr = pd.pivot_table(data, index = [\"xyz_campaign_id\"], values = [\"Clicks\",\"Spent\",\"Total_Conversion\", \"Impressions\"],aggfunc = {\"Clicks\":np.sum,\"Spent\":np.sum,\"Approved_Conversion\":np.sum,\"Impressions\":np.mean})\n",
    "data_ctr"
   ]
  },
  {
   "cell_type": "code",
   "execution_count": null,
   "metadata": {
    "colab": {
     "base_uri": "https://localhost:8080/",
     "height": 174
    },
    "id": "jWSUzCqD6DoF",
    "outputId": "f626b694-4009-4170-848e-9df59060078e"
   },
   "outputs": [
    {
     "data": {
      "text/html": [
       "<div>\n",
       "<style scoped>\n",
       "    .dataframe tbody tr th:only-of-type {\n",
       "        vertical-align: middle;\n",
       "    }\n",
       "\n",
       "    .dataframe tbody tr th {\n",
       "        vertical-align: top;\n",
       "    }\n",
       "\n",
       "    .dataframe thead th {\n",
       "        text-align: right;\n",
       "    }\n",
       "</style>\n",
       "<table border=\"1\" class=\"dataframe\">\n",
       "  <thead>\n",
       "    <tr style=\"text-align: right;\">\n",
       "      <th></th>\n",
       "      <th>Clicks</th>\n",
       "      <th>Impressions</th>\n",
       "      <th>Spent</th>\n",
       "      <th>Total_Conversion</th>\n",
       "      <th>CTR (in %)</th>\n",
       "    </tr>\n",
       "    <tr>\n",
       "      <th>xyz_campaign_id</th>\n",
       "      <th></th>\n",
       "      <th></th>\n",
       "      <th></th>\n",
       "      <th></th>\n",
       "      <th></th>\n",
       "    </tr>\n",
       "  </thead>\n",
       "  <tbody>\n",
       "    <tr>\n",
       "      <th>916</th>\n",
       "      <td>113</td>\n",
       "      <td>8943.055556</td>\n",
       "      <td>149.710001</td>\n",
       "      <td>58</td>\n",
       "      <td>1.263550</td>\n",
       "    </tr>\n",
       "    <tr>\n",
       "      <th>936</th>\n",
       "      <td>1984</td>\n",
       "      <td>17517.644397</td>\n",
       "      <td>2893.369999</td>\n",
       "      <td>537</td>\n",
       "      <td>11.325724</td>\n",
       "    </tr>\n",
       "    <tr>\n",
       "      <th>1178</th>\n",
       "      <td>36068</td>\n",
       "      <td>327717.945600</td>\n",
       "      <td>55662.149959</td>\n",
       "      <td>2669</td>\n",
       "      <td>11.005806</td>\n",
       "    </tr>\n",
       "  </tbody>\n",
       "</table>\n",
       "</div>"
      ],
      "text/plain": [
       "                 Clicks    Impressions         Spent  Total_Conversion  \\\n",
       "xyz_campaign_id                                                          \n",
       "916                 113    8943.055556    149.710001                58   \n",
       "936                1984   17517.644397   2893.369999               537   \n",
       "1178              36068  327717.945600  55662.149959              2669   \n",
       "\n",
       "                 CTR (in %)  \n",
       "xyz_campaign_id              \n",
       "916                1.263550  \n",
       "936               11.325724  \n",
       "1178              11.005806  "
      ]
     },
     "execution_count": 37,
     "metadata": {},
     "output_type": "execute_result"
    }
   ],
   "source": [
    "data_ctr['CTR (in %)'] = (data_ctr['Clicks']/data_ctr['Impressions'])*100\n",
    "data_ctr"
   ]
  },
  {
   "cell_type": "code",
   "execution_count": null,
   "metadata": {
    "colab": {
     "base_uri": "https://localhost:8080/",
     "height": 174
    },
    "id": "67djxnhvIrnD",
    "outputId": "a65773c7-10b9-4e34-9eb8-80a8443b17ab"
   },
   "outputs": [
    {
     "data": {
      "text/html": [
       "<div>\n",
       "<style scoped>\n",
       "    .dataframe tbody tr th:only-of-type {\n",
       "        vertical-align: middle;\n",
       "    }\n",
       "\n",
       "    .dataframe tbody tr th {\n",
       "        vertical-align: top;\n",
       "    }\n",
       "\n",
       "    .dataframe thead th {\n",
       "        text-align: right;\n",
       "    }\n",
       "</style>\n",
       "<table border=\"1\" class=\"dataframe\">\n",
       "  <thead>\n",
       "    <tr style=\"text-align: right;\">\n",
       "      <th></th>\n",
       "      <th>Clicks</th>\n",
       "      <th>Impressions</th>\n",
       "      <th>Spent</th>\n",
       "      <th>Total_Conversion</th>\n",
       "      <th>CTR (in %)</th>\n",
       "      <th>CPrC</th>\n",
       "    </tr>\n",
       "    <tr>\n",
       "      <th>xyz_campaign_id</th>\n",
       "      <th></th>\n",
       "      <th></th>\n",
       "      <th></th>\n",
       "      <th></th>\n",
       "      <th></th>\n",
       "      <th></th>\n",
       "    </tr>\n",
       "  </thead>\n",
       "  <tbody>\n",
       "    <tr>\n",
       "      <th>916</th>\n",
       "      <td>113</td>\n",
       "      <td>8943.055556</td>\n",
       "      <td>149.710001</td>\n",
       "      <td>58</td>\n",
       "      <td>1.263550</td>\n",
       "      <td>1.324867</td>\n",
       "    </tr>\n",
       "    <tr>\n",
       "      <th>936</th>\n",
       "      <td>1984</td>\n",
       "      <td>17517.644397</td>\n",
       "      <td>2893.369999</td>\n",
       "      <td>537</td>\n",
       "      <td>11.325724</td>\n",
       "      <td>1.458352</td>\n",
       "    </tr>\n",
       "    <tr>\n",
       "      <th>1178</th>\n",
       "      <td>36068</td>\n",
       "      <td>327717.945600</td>\n",
       "      <td>55662.149959</td>\n",
       "      <td>2669</td>\n",
       "      <td>11.005806</td>\n",
       "      <td>1.543256</td>\n",
       "    </tr>\n",
       "  </tbody>\n",
       "</table>\n",
       "</div>"
      ],
      "text/plain": [
       "                 Clicks    Impressions         Spent  Total_Conversion  \\\n",
       "xyz_campaign_id                                                          \n",
       "916                 113    8943.055556    149.710001                58   \n",
       "936                1984   17517.644397   2893.369999               537   \n",
       "1178              36068  327717.945600  55662.149959              2669   \n",
       "\n",
       "                 CTR (in %)      CPrC  \n",
       "xyz_campaign_id                        \n",
       "916                1.263550  1.324867  \n",
       "936               11.325724  1.458352  \n",
       "1178              11.005806  1.543256  "
      ]
     },
     "execution_count": 38,
     "metadata": {},
     "output_type": "execute_result"
    }
   ],
   "source": [
    "data_ctr['CPrC'] = (data_ctr['Spent']/data_ctr['Clicks'])\n",
    "data_ctr"
   ]
  },
  {
   "cell_type": "code",
   "execution_count": null,
   "metadata": {
    "colab": {
     "base_uri": "https://localhost:8080/"
    },
    "id": "1Vi_lFKgyLt_",
    "outputId": "d7e34c51-2575-4e7b-b4bc-834b162ef8de"
   },
   "outputs": [
    {
     "data": {
      "text/plain": [
       "interest\n",
       "2       311\n",
       "7       410\n",
       "10     3317\n",
       "15     1609\n",
       "16     5144\n",
       "18     1524\n",
       "19     1188\n",
       "20     1234\n",
       "21      512\n",
       "22      717\n",
       "23      375\n",
       "24      419\n",
       "25     1066\n",
       "26     1113\n",
       "27     3409\n",
       "28     2025\n",
       "29     3315\n",
       "30      389\n",
       "31      195\n",
       "32     1138\n",
       "36      128\n",
       "63     1675\n",
       "64      989\n",
       "65      372\n",
       "66      138\n",
       "100     395\n",
       "101     524\n",
       "102     150\n",
       "103     333\n",
       "104     265\n",
       "105     453\n",
       "106     332\n",
       "107     639\n",
       "108     402\n",
       "109     572\n",
       "110     365\n",
       "111     260\n",
       "112     339\n",
       "113     233\n",
       "114     191\n",
       "Name: Clicks, dtype: int64"
      ]
     },
     "execution_count": 92,
     "metadata": {},
     "output_type": "execute_result"
    }
   ],
   "source": [
    "df.groupby(\"interest\")[\"Clicks\"].sum()"
   ]
  },
  {
   "cell_type": "code",
   "execution_count": null,
   "metadata": {
    "colab": {
     "base_uri": "https://localhost:8080/",
     "height": 293
    },
    "id": "EUkKz6Lt1sgR",
    "outputId": "050d5748-909e-4d98-e304-6ea52deefdf3"
   },
   "outputs": [
    {
     "data": {
      "image/png": "[encoded data removed]",
      "text/plain": [
       "<Figure size 740.05x288 with 1 Axes>"
      ]
     },
     "metadata": {},
     "output_type": "display_data"
    }
   ],
   "source": [
    "sns.catplot(x=\"age\",y=\"CPC\",hue=\"gender\",data=df,kind=\"bar\",height=4,aspect=2.4)l\n",
    "plt.show()"
   ]
  },
  {
   "cell_type": "markdown",
   "metadata": {
    "id": "SPV1PNwt9Zy4"
   },
   "source": [
    "# Conclusion\n",
    "As seen from the above data points and graphs, it can be inferred that the companies investing in aforementioned Ad-campaigns should target the 30-34 aged group and 40-44 aged Males' demographic to increase the Approved Conversion, for better sales records. This has been inferred as the number of clicks, approved conversion, and amount spent is comparatively less than the other demographics by far, while also showing considerable promise with the Clicks ratio and other similar KPIs.\n",
    "\n",
    "As the 45-49 aged Females' demographic is showing promise in its ROI value, this demographic does not need to be actively targeted at the moment."
   ]
  }
 ],
 "metadata": {
  "colab": {
   "collapsed_sections": [],
   "name": "Assignment1_soumyarajpoddar.ipynb",
   "provenance": []
  },
  "kernelspec": {
   "display_name": "Python 3 (ipykernel)",
   "language": "python",
   "name": "python3"
  },
  "language_info": {
   "codemirror_mode": {
    "name": "ipython",
    "version": 3
   },
   "file_extension": ".py",
   "mimetype": "text/x-python",
   "name": "python",
   "nbconvert_exporter": "python",
   "pygments_lexer": "ipython3",
   "version": "3.9.7"
  }
 },
 "nbformat": 4,
 "nbformat_minor": 1
}
