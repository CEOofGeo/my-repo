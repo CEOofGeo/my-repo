{
  "nbformat": 4,
  "nbformat_minor": 0,
  "metadata": {
    "kernelspec": {
      "display_name": "Python 3",
      "language": "python",
      "name": "python3"
    },
    "language_info": {
      "codemirror_mode": {
        "name": "ipython",
        "version": 3
      },
      "file_extension": ".py",
      "mimetype": "text/x-python",
      "name": "python",
      "nbconvert_exporter": "python",
      "pygments_lexer": "ipython3",
      "version": "3.7.4"
    },
    "colab": {
      "name": "nonlinear_regression.ipynb",
      "provenance": [],
      "collapsed_sections": []
    }
  },
  "cells": [
    {
      "cell_type": "code",
      "metadata": {
        "id": "DsWWHxkSah0J"
      },
      "source": [
        "# importing libraries\n",
        "import numpy as np\n",
        "from scipy import optimize\n",
        "import matplotlib.pyplot as plt\n",
        "from sklearn.metrics import r2_score"
      ],
      "execution_count": null,
      "outputs": []
    },
    {
      "cell_type": "markdown",
      "metadata": {
        "id": "Ceub4-UGah0R"
      },
      "source": [
        "#### Using optimize.curve_fit for non-linear"
      ]
    },
    {
      "cell_type": "code",
      "metadata": {
        "id": "qBRHQXqYah0R",
        "colab": {
          "base_uri": "https://localhost:8080/",
          "height": 473
        },
        "outputId": "2f23317c-7b99-4b19-aab0-0c4ade4145c2"
      },
      "source": [
        "# Generate exponential data\n",
        "x1 = np.linspace(0, 10, 101)\n",
        "y1 = 0.1*np.exp(0.3*x1) + 0.1*np.random.randn(len(x1))\n",
        "\n",
        "def func(x, a, b):\n",
        "    return a * np.exp(b*x)\n",
        "\n",
        "param, covariance_param = optimize.curve_fit(func, xdata = x1, ydata = y1)\n",
        "print('Using the optimize.curve_fit: a = {}, b = {}'.format(param[0], param[1]))\n",
        "print('The covariance matrix of estimated parameters: \\n',covariance_param)\n",
        "plt.figure(figsize = (8,6))\n",
        "plt.plot(x1, y1, linestyle = \"None\", marker = \"o\", markerfacecolor = \"None\", color = \"b\")\n",
        "plt.plot(x1, param[0]*np.exp(param[1]*x1), 'r')\n",
        "plt.xlabel('x')\n",
        "plt.ylabel('y')"
      ],
      "execution_count": null,
      "outputs": [
        {
          "output_type": "stream",
          "text": [
            "Using the optimize.curve_fit: a = 0.10448057572842968, b = 0.29496169441175374\n",
            "The covariance matrix of estimated parameters: \n",
            " [[ 4.08167534e-05 -4.49468036e-05]\n",
            " [-4.49468036e-05  5.13323982e-05]]\n"
          ],
          "name": "stdout"
        },
        {
          "output_type": "execute_result",
          "data": {
            "text/plain": [
              "Text(0, 0.5, 'y')"
            ]
          },
          "metadata": {
            "tags": []
          },
          "execution_count": 8
        },
        {
          "output_type": "display_data",
          "data": {
            "image/png": "[encoded data removed]",
            "text/plain": [
              "<Figure size 576x432 with 1 Axes>"
            ]
          },
          "metadata": {
            "tags": [],
            "needs_background": "light"
          }
        }
      ]
    }
  ]
}