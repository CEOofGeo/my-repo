{
 "cells": [
  {
   "cell_type": "code",
   "execution_count": 46,
   "metadata": {
    "id": "qwpPTybsWZQl"
   },
   "outputs": [],
   "source": [
    "  import scipy as sp\n",
    "  import numpy as np\n",
    "  import matplotlib.pyplot as plt\n",
    "  from scipy.stats import norm\n",
    "  import seaborn as sns\n",
    "  from array import *"
   ]
  },
  {
   "cell_type": "markdown",
   "metadata": {
    "id": "lBOFM-n3gSZY"
   },
   "source": [
    "Will sample from a normal distribution and generate $\\bar{X}$ values"
   ]
  },
  {
   "cell_type": "code",
   "execution_count": 47,
   "metadata": {
    "colab": {
     "base_uri": "https://localhost:8080/",
     "height": 530
    },
    "id": "w6KhGoSdaUnO",
    "outputId": "ad9a0128-8c7e-4722-e806-c20a28226074"
   },
   "outputs": [
    {
     "name": "stdout",
     "output_type": "stream",
     "text": [
      "2500\n"
     ]
    },
    {
     "data": {
      "image/png": "[encoded data removed]",
      "text/plain": [
       "<Figure size 720x504 with 1 Axes>"
      ]
     },
     "metadata": {
      "needs_background": "light"
     },
     "output_type": "display_data"
    }
   ],
   "source": [
    "n = 5 # sample size\n",
    "data_mu = 10 # Population mean (mu)\n",
    "data_std = 3 # Standard deviation\n",
    "data_distribution = norm(loc = data_mu , scale = data_std) # specifying parameters of Gaussian density from which data will be sample\n",
    "N=500 # number of times n samples are generated \n",
    "\n",
    "meanvals=array('d',[]) # array to store the xbar values\n",
    "data_set=np.array([]) # array to store the x values\n",
    "\n",
    "for i in range(N):\n",
    "    data_set_i = data_distribution.rvs(size = n) ## generates randaom sample given the size of the data set\n",
    "    meanvals.append(np.mean(data_set_i)) # compute the mean and append it to the array storing xbar values\n",
    "    data_set = np.append(data_set,data_set_i,axis=0) # append the current sample to the array storing the past sample\n",
    "print(data_set.size)\n",
    "# Generating the histograms\n",
    "fig, axe = plt.subplots(figsize =(10, 7),tight_layout = True)\n",
    "axe.hist(meanvals, bins=20, density=True, histtype='stepfilled', alpha=0.6, label=\"xbar hist\")\n",
    "axe.hist(data_set, bins=40, density=True, histtype='stepfilled', alpha=0.4, label=\"x hist\")\n",
    "axe.legend()\n",
    "plt.show()\n"
   ]
  }
 ],
 "metadata": {
  "colab": {
   "collapsed_sections": [],
   "name": "SamplingStatistics.ipynb",
   "provenance": []
  },
  "kernelspec": {
   "display_name": "Python 3 (ipykernel)",
   "language": "python",
   "name": "python3"
  },
  "language_info": {
   "codemirror_mode": {
    "name": "ipython",
    "version": 3
   },
   "file_extension": ".py",
   "mimetype": "text/x-python",
   "name": "python",
   "nbconvert_exporter": "python",
   "pygments_lexer": "ipython3",
   "version": "3.9.7"
  }
 },
 "nbformat": 4,
 "nbformat_minor": 1
}
